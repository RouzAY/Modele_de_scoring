{
 "cells": [
  {
   "cell_type": "markdown",
   "metadata": {},
   "source": [
    "# Exploration des données "
   ]
  },
  {
   "cell_type": "code",
   "execution_count": 1322,
   "metadata": {},
   "outputs": [],
   "source": [
    "import numpy as np\n",
    "import matplotlib.pyplot as plt\n",
    "import pandas as pd \n",
    "import seaborn as sns\n",
    "import warnings                                \n",
    "warnings.filterwarnings('ignore') \n",
    "sns.set_theme(\"paper\")"
   ]
  },
  {
   "cell_type": "markdown",
   "metadata": {},
   "source": [
    "- Lors de l'importation des données, il faut préciser que les dates doivent être converties en format date \n",
    "- Afficher les 5 premiers lignes et la taille des 3 dataframes \n",
    "- Fusionner train et set des datas\n",
    "- Analyse chaque dataframe individuellement ( feature engineering si nécssaire) \n",
    "    - type des variables/ convertion si nécessaire\n",
    "    - valeur manquantes \n",
    "    - Analyse variable quanti / quali \n",
    "\n",
    "- Fusion pour avoir un seul dataset ( Analyse aussi) et Selection des variables et transformations pour la construction des modèles\n",
    "    "
   ]
  },
  {
   "cell_type": "code",
   "execution_count": 1,
   "metadata": {},
   "outputs": [
    {
     "data": {
      "text/plain": [
       "'C:\\\\Users\\\\ROUZOUMKA'"
      ]
     },
     "execution_count": 1,
     "metadata": {},
     "output_type": "execute_result"
    }
   ],
   "source": [
    "pwd"
   ]
  },
  {
   "cell_type": "code",
   "execution_count": 1324,
   "metadata": {},
   "outputs": [],
   "source": [
    "#importation des données \n",
    "traindemographics=pd.read_csv(\"traindemographics.csv\",parse_dates=[\"birthdate\"])\n",
    "testdemographics=pd.read_csv(\"testdemographics.csv\",parse_dates=[\"birthdate\"])\n",
    "trainperf=pd.read_csv(\"trainperf.csv\",parse_dates=[\"approveddate\",\"creationdate\"])\n",
    "testperf=pd.read_csv(\"testperf.csv\",parse_dates=[\"approveddate\",\"creationdate\"])\n",
    "trainprevloans=pd.read_csv(\"trainprevloans.csv\",parse_dates=[\"approveddate\",\"creationdate\",\"closeddate\",\"firstduedate\",\"firstrepaiddate\"])\n",
    "testprevloans=pd.read_csv(\"testprevloans.csv\",parse_dates=[\"approveddate\",\"creationdate\",\"closeddate\",\"firstduedate\",\"firstrepaiddate\"])\n",
    "SampleSubmission=pd.read_csv(\"SampleSubmission.csv\")"
   ]
  },
  {
   "cell_type": "code",
   "execution_count": 1325,
   "metadata": {},
   "outputs": [
    {
     "name": "stdout",
     "output_type": "stream",
     "text": [
      "demographie train : (4346, 9)\n"
     ]
    },
    {
     "data": {
      "text/html": [
       "<div>\n",
       "<style scoped>\n",
       "    .dataframe tbody tr th:only-of-type {\n",
       "        vertical-align: middle;\n",
       "    }\n",
       "\n",
       "    .dataframe tbody tr th {\n",
       "        vertical-align: top;\n",
       "    }\n",
       "\n",
       "    .dataframe thead th {\n",
       "        text-align: right;\n",
       "    }\n",
       "</style>\n",
       "<table border=\"1\" class=\"dataframe\">\n",
       "  <thead>\n",
       "    <tr style=\"text-align: right;\">\n",
       "      <th></th>\n",
       "      <th>customerid</th>\n",
       "      <th>birthdate</th>\n",
       "      <th>bank_account_type</th>\n",
       "      <th>longitude_gps</th>\n",
       "      <th>latitude_gps</th>\n",
       "      <th>bank_name_clients</th>\n",
       "      <th>bank_branch_clients</th>\n",
       "      <th>employment_status_clients</th>\n",
       "      <th>level_of_education_clients</th>\n",
       "    </tr>\n",
       "  </thead>\n",
       "  <tbody>\n",
       "    <tr>\n",
       "      <th>0</th>\n",
       "      <td>8a858e135cb22031015cbafc76964ebd</td>\n",
       "      <td>1973-10-10</td>\n",
       "      <td>Savings</td>\n",
       "      <td>3.319219</td>\n",
       "      <td>6.528604</td>\n",
       "      <td>GT Bank</td>\n",
       "      <td>NaN</td>\n",
       "      <td>NaN</td>\n",
       "      <td>NaN</td>\n",
       "    </tr>\n",
       "    <tr>\n",
       "      <th>1</th>\n",
       "      <td>8a858e275c7ea5ec015c82482d7c3996</td>\n",
       "      <td>1986-01-21</td>\n",
       "      <td>Savings</td>\n",
       "      <td>3.325598</td>\n",
       "      <td>7.119403</td>\n",
       "      <td>Sterling Bank</td>\n",
       "      <td>NaN</td>\n",
       "      <td>Permanent</td>\n",
       "      <td>NaN</td>\n",
       "    </tr>\n",
       "    <tr>\n",
       "      <th>2</th>\n",
       "      <td>8a858e5b5bd99460015bdc95cd485634</td>\n",
       "      <td>1987-04-01</td>\n",
       "      <td>Savings</td>\n",
       "      <td>5.746100</td>\n",
       "      <td>5.563174</td>\n",
       "      <td>Fidelity Bank</td>\n",
       "      <td>NaN</td>\n",
       "      <td>NaN</td>\n",
       "      <td>NaN</td>\n",
       "    </tr>\n",
       "    <tr>\n",
       "      <th>3</th>\n",
       "      <td>8a858efd5ca70688015cabd1f1e94b55</td>\n",
       "      <td>1991-07-19</td>\n",
       "      <td>Savings</td>\n",
       "      <td>3.362850</td>\n",
       "      <td>6.642485</td>\n",
       "      <td>GT Bank</td>\n",
       "      <td>NaN</td>\n",
       "      <td>Permanent</td>\n",
       "      <td>NaN</td>\n",
       "    </tr>\n",
       "    <tr>\n",
       "      <th>4</th>\n",
       "      <td>8a858e785acd3412015acd48f4920d04</td>\n",
       "      <td>1982-11-22</td>\n",
       "      <td>Savings</td>\n",
       "      <td>8.455332</td>\n",
       "      <td>11.971410</td>\n",
       "      <td>GT Bank</td>\n",
       "      <td>NaN</td>\n",
       "      <td>Permanent</td>\n",
       "      <td>NaN</td>\n",
       "    </tr>\n",
       "  </tbody>\n",
       "</table>\n",
       "</div>"
      ],
      "text/plain": [
       "                         customerid  birthdate bank_account_type  \\\n",
       "0  8a858e135cb22031015cbafc76964ebd 1973-10-10           Savings   \n",
       "1  8a858e275c7ea5ec015c82482d7c3996 1986-01-21           Savings   \n",
       "2  8a858e5b5bd99460015bdc95cd485634 1987-04-01           Savings   \n",
       "3  8a858efd5ca70688015cabd1f1e94b55 1991-07-19           Savings   \n",
       "4  8a858e785acd3412015acd48f4920d04 1982-11-22           Savings   \n",
       "\n",
       "   longitude_gps  latitude_gps bank_name_clients bank_branch_clients  \\\n",
       "0       3.319219      6.528604           GT Bank                 NaN   \n",
       "1       3.325598      7.119403     Sterling Bank                 NaN   \n",
       "2       5.746100      5.563174     Fidelity Bank                 NaN   \n",
       "3       3.362850      6.642485           GT Bank                 NaN   \n",
       "4       8.455332     11.971410           GT Bank                 NaN   \n",
       "\n",
       "  employment_status_clients level_of_education_clients  \n",
       "0                       NaN                        NaN  \n",
       "1                 Permanent                        NaN  \n",
       "2                       NaN                        NaN  \n",
       "3                 Permanent                        NaN  \n",
       "4                 Permanent                        NaN  "
      ]
     },
     "metadata": {},
     "output_type": "display_data"
    },
    {
     "name": "stdout",
     "output_type": "stream",
     "text": [
      "demographie test: (1487, 9)\n"
     ]
    },
    {
     "data": {
      "text/html": [
       "<div>\n",
       "<style scoped>\n",
       "    .dataframe tbody tr th:only-of-type {\n",
       "        vertical-align: middle;\n",
       "    }\n",
       "\n",
       "    .dataframe tbody tr th {\n",
       "        vertical-align: top;\n",
       "    }\n",
       "\n",
       "    .dataframe thead th {\n",
       "        text-align: right;\n",
       "    }\n",
       "</style>\n",
       "<table border=\"1\" class=\"dataframe\">\n",
       "  <thead>\n",
       "    <tr style=\"text-align: right;\">\n",
       "      <th></th>\n",
       "      <th>customerid</th>\n",
       "      <th>birthdate</th>\n",
       "      <th>bank_account_type</th>\n",
       "      <th>longitude_gps</th>\n",
       "      <th>latitude_gps</th>\n",
       "      <th>bank_name_clients</th>\n",
       "      <th>bank_branch_clients</th>\n",
       "      <th>employment_status_clients</th>\n",
       "      <th>level_of_education_clients</th>\n",
       "    </tr>\n",
       "  </thead>\n",
       "  <tbody>\n",
       "    <tr>\n",
       "      <th>0</th>\n",
       "      <td>8a858f305c8dd672015c93b1db645db4</td>\n",
       "      <td>1976-08-28</td>\n",
       "      <td>Savings</td>\n",
       "      <td>5.296628</td>\n",
       "      <td>7.593965</td>\n",
       "      <td>Heritage Bank</td>\n",
       "      <td>NaN</td>\n",
       "      <td>Permanent</td>\n",
       "      <td>NaN</td>\n",
       "    </tr>\n",
       "    <tr>\n",
       "      <th>1</th>\n",
       "      <td>8a858f085a477386015a47fb049e49ca</td>\n",
       "      <td>1978-06-23</td>\n",
       "      <td>Savings</td>\n",
       "      <td>3.294513</td>\n",
       "      <td>6.596602</td>\n",
       "      <td>UBA</td>\n",
       "      <td>NaN</td>\n",
       "      <td>Permanent</td>\n",
       "      <td>NaN</td>\n",
       "    </tr>\n",
       "    <tr>\n",
       "      <th>2</th>\n",
       "      <td>8a858e6f5cd5e874015cd6f5634c39ad</td>\n",
       "      <td>1984-04-04</td>\n",
       "      <td>Savings</td>\n",
       "      <td>8.501912</td>\n",
       "      <td>7.729364</td>\n",
       "      <td>First Bank</td>\n",
       "      <td>NaN</td>\n",
       "      <td>Permanent</td>\n",
       "      <td>NaN</td>\n",
       "    </tr>\n",
       "    <tr>\n",
       "      <th>3</th>\n",
       "      <td>8a858e9d5bfd7037015bfdab79f61305</td>\n",
       "      <td>1983-05-28</td>\n",
       "      <td>Savings</td>\n",
       "      <td>3.318904</td>\n",
       "      <td>6.681595</td>\n",
       "      <td>UBA</td>\n",
       "      <td>NaN</td>\n",
       "      <td>Permanent</td>\n",
       "      <td>NaN</td>\n",
       "    </tr>\n",
       "    <tr>\n",
       "      <th>4</th>\n",
       "      <td>8a858fde56eb02280156eb6dafc128ac</td>\n",
       "      <td>1982-03-29</td>\n",
       "      <td>Savings</td>\n",
       "      <td>6.354624</td>\n",
       "      <td>4.949031</td>\n",
       "      <td>First Bank</td>\n",
       "      <td>NaN</td>\n",
       "      <td>Self-Employed</td>\n",
       "      <td>NaN</td>\n",
       "    </tr>\n",
       "  </tbody>\n",
       "</table>\n",
       "</div>"
      ],
      "text/plain": [
       "                         customerid  birthdate bank_account_type  \\\n",
       "0  8a858f305c8dd672015c93b1db645db4 1976-08-28           Savings   \n",
       "1  8a858f085a477386015a47fb049e49ca 1978-06-23           Savings   \n",
       "2  8a858e6f5cd5e874015cd6f5634c39ad 1984-04-04           Savings   \n",
       "3  8a858e9d5bfd7037015bfdab79f61305 1983-05-28           Savings   \n",
       "4  8a858fde56eb02280156eb6dafc128ac 1982-03-29           Savings   \n",
       "\n",
       "   longitude_gps  latitude_gps bank_name_clients bank_branch_clients  \\\n",
       "0       5.296628      7.593965     Heritage Bank                 NaN   \n",
       "1       3.294513      6.596602               UBA                 NaN   \n",
       "2       8.501912      7.729364        First Bank                 NaN   \n",
       "3       3.318904      6.681595               UBA                 NaN   \n",
       "4       6.354624      4.949031        First Bank                 NaN   \n",
       "\n",
       "  employment_status_clients level_of_education_clients  \n",
       "0                 Permanent                        NaN  \n",
       "1                 Permanent                        NaN  \n",
       "2                 Permanent                        NaN  \n",
       "3                 Permanent                        NaN  \n",
       "4             Self-Employed                        NaN  "
      ]
     },
     "metadata": {},
     "output_type": "display_data"
    },
    {
     "name": "stdout",
     "output_type": "stream",
     "text": [
      "perf train: (4368, 10)\n"
     ]
    },
    {
     "data": {
      "text/html": [
       "<div>\n",
       "<style scoped>\n",
       "    .dataframe tbody tr th:only-of-type {\n",
       "        vertical-align: middle;\n",
       "    }\n",
       "\n",
       "    .dataframe tbody tr th {\n",
       "        vertical-align: top;\n",
       "    }\n",
       "\n",
       "    .dataframe thead th {\n",
       "        text-align: right;\n",
       "    }\n",
       "</style>\n",
       "<table border=\"1\" class=\"dataframe\">\n",
       "  <thead>\n",
       "    <tr style=\"text-align: right;\">\n",
       "      <th></th>\n",
       "      <th>customerid</th>\n",
       "      <th>systemloanid</th>\n",
       "      <th>loannumber</th>\n",
       "      <th>approveddate</th>\n",
       "      <th>creationdate</th>\n",
       "      <th>loanamount</th>\n",
       "      <th>totaldue</th>\n",
       "      <th>termdays</th>\n",
       "      <th>referredby</th>\n",
       "      <th>good_bad_flag</th>\n",
       "    </tr>\n",
       "  </thead>\n",
       "  <tbody>\n",
       "    <tr>\n",
       "      <th>0</th>\n",
       "      <td>8a2a81a74ce8c05d014cfb32a0da1049</td>\n",
       "      <td>301994762</td>\n",
       "      <td>12</td>\n",
       "      <td>2017-07-25 08:22:56</td>\n",
       "      <td>2017-07-25 07:22:47</td>\n",
       "      <td>30000.0</td>\n",
       "      <td>34500.0</td>\n",
       "      <td>30</td>\n",
       "      <td>NaN</td>\n",
       "      <td>Good</td>\n",
       "    </tr>\n",
       "    <tr>\n",
       "      <th>1</th>\n",
       "      <td>8a85886e54beabf90154c0a29ae757c0</td>\n",
       "      <td>301965204</td>\n",
       "      <td>2</td>\n",
       "      <td>2017-07-05 17:04:41</td>\n",
       "      <td>2017-07-05 16:04:18</td>\n",
       "      <td>15000.0</td>\n",
       "      <td>17250.0</td>\n",
       "      <td>30</td>\n",
       "      <td>NaN</td>\n",
       "      <td>Good</td>\n",
       "    </tr>\n",
       "    <tr>\n",
       "      <th>2</th>\n",
       "      <td>8a8588f35438fe12015444567666018e</td>\n",
       "      <td>301966580</td>\n",
       "      <td>7</td>\n",
       "      <td>2017-07-06 14:52:57</td>\n",
       "      <td>2017-07-06 13:52:51</td>\n",
       "      <td>20000.0</td>\n",
       "      <td>22250.0</td>\n",
       "      <td>15</td>\n",
       "      <td>NaN</td>\n",
       "      <td>Good</td>\n",
       "    </tr>\n",
       "    <tr>\n",
       "      <th>3</th>\n",
       "      <td>8a85890754145ace015429211b513e16</td>\n",
       "      <td>301999343</td>\n",
       "      <td>3</td>\n",
       "      <td>2017-07-27 19:00:41</td>\n",
       "      <td>2017-07-27 18:00:35</td>\n",
       "      <td>10000.0</td>\n",
       "      <td>11500.0</td>\n",
       "      <td>15</td>\n",
       "      <td>NaN</td>\n",
       "      <td>Good</td>\n",
       "    </tr>\n",
       "    <tr>\n",
       "      <th>4</th>\n",
       "      <td>8a858970548359cc0154883481981866</td>\n",
       "      <td>301962360</td>\n",
       "      <td>9</td>\n",
       "      <td>2017-07-03 23:42:45</td>\n",
       "      <td>2017-07-03 22:42:39</td>\n",
       "      <td>40000.0</td>\n",
       "      <td>44000.0</td>\n",
       "      <td>30</td>\n",
       "      <td>NaN</td>\n",
       "      <td>Good</td>\n",
       "    </tr>\n",
       "  </tbody>\n",
       "</table>\n",
       "</div>"
      ],
      "text/plain": [
       "                         customerid  systemloanid  loannumber  \\\n",
       "0  8a2a81a74ce8c05d014cfb32a0da1049     301994762          12   \n",
       "1  8a85886e54beabf90154c0a29ae757c0     301965204           2   \n",
       "2  8a8588f35438fe12015444567666018e     301966580           7   \n",
       "3  8a85890754145ace015429211b513e16     301999343           3   \n",
       "4  8a858970548359cc0154883481981866     301962360           9   \n",
       "\n",
       "         approveddate        creationdate  loanamount  totaldue  termdays  \\\n",
       "0 2017-07-25 08:22:56 2017-07-25 07:22:47     30000.0   34500.0        30   \n",
       "1 2017-07-05 17:04:41 2017-07-05 16:04:18     15000.0   17250.0        30   \n",
       "2 2017-07-06 14:52:57 2017-07-06 13:52:51     20000.0   22250.0        15   \n",
       "3 2017-07-27 19:00:41 2017-07-27 18:00:35     10000.0   11500.0        15   \n",
       "4 2017-07-03 23:42:45 2017-07-03 22:42:39     40000.0   44000.0        30   \n",
       "\n",
       "  referredby good_bad_flag  \n",
       "0        NaN          Good  \n",
       "1        NaN          Good  \n",
       "2        NaN          Good  \n",
       "3        NaN          Good  \n",
       "4        NaN          Good  "
      ]
     },
     "metadata": {},
     "output_type": "display_data"
    },
    {
     "name": "stdout",
     "output_type": "stream",
     "text": [
      "perf test: (1450, 9)\n"
     ]
    },
    {
     "data": {
      "text/html": [
       "<div>\n",
       "<style scoped>\n",
       "    .dataframe tbody tr th:only-of-type {\n",
       "        vertical-align: middle;\n",
       "    }\n",
       "\n",
       "    .dataframe tbody tr th {\n",
       "        vertical-align: top;\n",
       "    }\n",
       "\n",
       "    .dataframe thead th {\n",
       "        text-align: right;\n",
       "    }\n",
       "</style>\n",
       "<table border=\"1\" class=\"dataframe\">\n",
       "  <thead>\n",
       "    <tr style=\"text-align: right;\">\n",
       "      <th></th>\n",
       "      <th>customerid</th>\n",
       "      <th>systemloanid</th>\n",
       "      <th>loannumber</th>\n",
       "      <th>approveddate</th>\n",
       "      <th>creationdate</th>\n",
       "      <th>loanamount</th>\n",
       "      <th>totaldue</th>\n",
       "      <th>termdays</th>\n",
       "      <th>referredby</th>\n",
       "    </tr>\n",
       "  </thead>\n",
       "  <tbody>\n",
       "    <tr>\n",
       "      <th>0</th>\n",
       "      <td>8a858899538ddb8e015390510b321f08</td>\n",
       "      <td>301998974</td>\n",
       "      <td>4</td>\n",
       "      <td>40:48.0</td>\n",
       "      <td>39:35.0</td>\n",
       "      <td>10000</td>\n",
       "      <td>12250.0</td>\n",
       "      <td>30</td>\n",
       "      <td>NaN</td>\n",
       "    </tr>\n",
       "    <tr>\n",
       "      <th>1</th>\n",
       "      <td>8a858959537a097401537a4e316e25f7</td>\n",
       "      <td>301963615</td>\n",
       "      <td>10</td>\n",
       "      <td>43:40.0</td>\n",
       "      <td>42:34.0</td>\n",
       "      <td>40000</td>\n",
       "      <td>44000.0</td>\n",
       "      <td>30</td>\n",
       "      <td>NaN</td>\n",
       "    </tr>\n",
       "    <tr>\n",
       "      <th>2</th>\n",
       "      <td>8a8589c253ace09b0153af6ba58f1f31</td>\n",
       "      <td>301982236</td>\n",
       "      <td>6</td>\n",
       "      <td>15:11.0</td>\n",
       "      <td>15:04.0</td>\n",
       "      <td>20000</td>\n",
       "      <td>24500.0</td>\n",
       "      <td>30</td>\n",
       "      <td>NaN</td>\n",
       "    </tr>\n",
       "    <tr>\n",
       "      <th>3</th>\n",
       "      <td>8a858e095aae82b7015aae86ca1e030b</td>\n",
       "      <td>301971730</td>\n",
       "      <td>8</td>\n",
       "      <td>00:54.0</td>\n",
       "      <td>00:49.0</td>\n",
       "      <td>30000</td>\n",
       "      <td>34500.0</td>\n",
       "      <td>30</td>\n",
       "      <td>NaN</td>\n",
       "    </tr>\n",
       "    <tr>\n",
       "      <th>4</th>\n",
       "      <td>8a858e225a28c713015a30db5c48383d</td>\n",
       "      <td>301959177</td>\n",
       "      <td>4</td>\n",
       "      <td>04:33.0</td>\n",
       "      <td>04:27.0</td>\n",
       "      <td>20000</td>\n",
       "      <td>24500.0</td>\n",
       "      <td>30</td>\n",
       "      <td>NaN</td>\n",
       "    </tr>\n",
       "  </tbody>\n",
       "</table>\n",
       "</div>"
      ],
      "text/plain": [
       "                         customerid  systemloanid  loannumber approveddate  \\\n",
       "0  8a858899538ddb8e015390510b321f08     301998974           4      40:48.0   \n",
       "1  8a858959537a097401537a4e316e25f7     301963615          10      43:40.0   \n",
       "2  8a8589c253ace09b0153af6ba58f1f31     301982236           6      15:11.0   \n",
       "3  8a858e095aae82b7015aae86ca1e030b     301971730           8      00:54.0   \n",
       "4  8a858e225a28c713015a30db5c48383d     301959177           4      04:33.0   \n",
       "\n",
       "  creationdate  loanamount  totaldue  termdays referredby  \n",
       "0      39:35.0       10000   12250.0        30        NaN  \n",
       "1      42:34.0       40000   44000.0        30        NaN  \n",
       "2      15:04.0       20000   24500.0        30        NaN  \n",
       "3      00:49.0       30000   34500.0        30        NaN  \n",
       "4      04:27.0       20000   24500.0        30        NaN  "
      ]
     },
     "metadata": {},
     "output_type": "display_data"
    },
    {
     "name": "stdout",
     "output_type": "stream",
     "text": [
      "prevloan train: (18183, 12)\n"
     ]
    },
    {
     "data": {
      "text/html": [
       "<div>\n",
       "<style scoped>\n",
       "    .dataframe tbody tr th:only-of-type {\n",
       "        vertical-align: middle;\n",
       "    }\n",
       "\n",
       "    .dataframe tbody tr th {\n",
       "        vertical-align: top;\n",
       "    }\n",
       "\n",
       "    .dataframe thead th {\n",
       "        text-align: right;\n",
       "    }\n",
       "</style>\n",
       "<table border=\"1\" class=\"dataframe\">\n",
       "  <thead>\n",
       "    <tr style=\"text-align: right;\">\n",
       "      <th></th>\n",
       "      <th>customerid</th>\n",
       "      <th>systemloanid</th>\n",
       "      <th>loannumber</th>\n",
       "      <th>approveddate</th>\n",
       "      <th>creationdate</th>\n",
       "      <th>loanamount</th>\n",
       "      <th>totaldue</th>\n",
       "      <th>termdays</th>\n",
       "      <th>closeddate</th>\n",
       "      <th>referredby</th>\n",
       "      <th>firstduedate</th>\n",
       "      <th>firstrepaiddate</th>\n",
       "    </tr>\n",
       "  </thead>\n",
       "  <tbody>\n",
       "    <tr>\n",
       "      <th>0</th>\n",
       "      <td>8a2a81a74ce8c05d014cfb32a0da1049</td>\n",
       "      <td>301682320</td>\n",
       "      <td>2</td>\n",
       "      <td>2016-08-15 18:22:40</td>\n",
       "      <td>2016-08-15 17:22:32</td>\n",
       "      <td>10000.0</td>\n",
       "      <td>13000.0</td>\n",
       "      <td>30</td>\n",
       "      <td>2016-09-01 16:06:48</td>\n",
       "      <td>NaN</td>\n",
       "      <td>2016-09-14</td>\n",
       "      <td>2016-09-01 15:51:43</td>\n",
       "    </tr>\n",
       "    <tr>\n",
       "      <th>1</th>\n",
       "      <td>8a2a81a74ce8c05d014cfb32a0da1049</td>\n",
       "      <td>301883808</td>\n",
       "      <td>9</td>\n",
       "      <td>2017-04-28 18:39:07</td>\n",
       "      <td>2017-04-28 17:38:53</td>\n",
       "      <td>10000.0</td>\n",
       "      <td>13000.0</td>\n",
       "      <td>30</td>\n",
       "      <td>2017-05-28 14:44:49</td>\n",
       "      <td>NaN</td>\n",
       "      <td>2017-05-30</td>\n",
       "      <td>2017-05-26 00:00:00</td>\n",
       "    </tr>\n",
       "    <tr>\n",
       "      <th>2</th>\n",
       "      <td>8a2a81a74ce8c05d014cfb32a0da1049</td>\n",
       "      <td>301831714</td>\n",
       "      <td>8</td>\n",
       "      <td>2017-03-05 10:56:25</td>\n",
       "      <td>2017-03-05 09:56:19</td>\n",
       "      <td>20000.0</td>\n",
       "      <td>23800.0</td>\n",
       "      <td>30</td>\n",
       "      <td>2017-04-26 22:18:56</td>\n",
       "      <td>NaN</td>\n",
       "      <td>2017-04-04</td>\n",
       "      <td>2017-04-26 22:03:47</td>\n",
       "    </tr>\n",
       "    <tr>\n",
       "      <th>3</th>\n",
       "      <td>8a8588f35438fe12015444567666018e</td>\n",
       "      <td>301861541</td>\n",
       "      <td>5</td>\n",
       "      <td>2017-04-09 18:25:55</td>\n",
       "      <td>2017-04-09 17:25:42</td>\n",
       "      <td>10000.0</td>\n",
       "      <td>11500.0</td>\n",
       "      <td>15</td>\n",
       "      <td>2017-04-24 01:35:52</td>\n",
       "      <td>NaN</td>\n",
       "      <td>2017-04-24</td>\n",
       "      <td>2017-04-24 00:48:43</td>\n",
       "    </tr>\n",
       "    <tr>\n",
       "      <th>4</th>\n",
       "      <td>8a85890754145ace015429211b513e16</td>\n",
       "      <td>301941754</td>\n",
       "      <td>2</td>\n",
       "      <td>2017-06-17 09:29:57</td>\n",
       "      <td>2017-06-17 08:29:50</td>\n",
       "      <td>10000.0</td>\n",
       "      <td>11500.0</td>\n",
       "      <td>15</td>\n",
       "      <td>2017-07-14 21:18:43</td>\n",
       "      <td>NaN</td>\n",
       "      <td>2017-07-03</td>\n",
       "      <td>2017-07-14 21:08:35</td>\n",
       "    </tr>\n",
       "  </tbody>\n",
       "</table>\n",
       "</div>"
      ],
      "text/plain": [
       "                         customerid  systemloanid  loannumber  \\\n",
       "0  8a2a81a74ce8c05d014cfb32a0da1049     301682320           2   \n",
       "1  8a2a81a74ce8c05d014cfb32a0da1049     301883808           9   \n",
       "2  8a2a81a74ce8c05d014cfb32a0da1049     301831714           8   \n",
       "3  8a8588f35438fe12015444567666018e     301861541           5   \n",
       "4  8a85890754145ace015429211b513e16     301941754           2   \n",
       "\n",
       "         approveddate        creationdate  loanamount  totaldue  termdays  \\\n",
       "0 2016-08-15 18:22:40 2016-08-15 17:22:32     10000.0   13000.0        30   \n",
       "1 2017-04-28 18:39:07 2017-04-28 17:38:53     10000.0   13000.0        30   \n",
       "2 2017-03-05 10:56:25 2017-03-05 09:56:19     20000.0   23800.0        30   \n",
       "3 2017-04-09 18:25:55 2017-04-09 17:25:42     10000.0   11500.0        15   \n",
       "4 2017-06-17 09:29:57 2017-06-17 08:29:50     10000.0   11500.0        15   \n",
       "\n",
       "           closeddate referredby firstduedate     firstrepaiddate  \n",
       "0 2016-09-01 16:06:48        NaN   2016-09-14 2016-09-01 15:51:43  \n",
       "1 2017-05-28 14:44:49        NaN   2017-05-30 2017-05-26 00:00:00  \n",
       "2 2017-04-26 22:18:56        NaN   2017-04-04 2017-04-26 22:03:47  \n",
       "3 2017-04-24 01:35:52        NaN   2017-04-24 2017-04-24 00:48:43  \n",
       "4 2017-07-14 21:18:43        NaN   2017-07-03 2017-07-14 21:08:35  "
      ]
     },
     "metadata": {},
     "output_type": "display_data"
    },
    {
     "name": "stdout",
     "output_type": "stream",
     "text": [
      "prevloan test: (5907, 12)\n"
     ]
    },
    {
     "data": {
      "text/html": [
       "<div>\n",
       "<style scoped>\n",
       "    .dataframe tbody tr th:only-of-type {\n",
       "        vertical-align: middle;\n",
       "    }\n",
       "\n",
       "    .dataframe tbody tr th {\n",
       "        vertical-align: top;\n",
       "    }\n",
       "\n",
       "    .dataframe thead th {\n",
       "        text-align: right;\n",
       "    }\n",
       "</style>\n",
       "<table border=\"1\" class=\"dataframe\">\n",
       "  <thead>\n",
       "    <tr style=\"text-align: right;\">\n",
       "      <th></th>\n",
       "      <th>customerid</th>\n",
       "      <th>systemloanid</th>\n",
       "      <th>loannumber</th>\n",
       "      <th>approveddate</th>\n",
       "      <th>creationdate</th>\n",
       "      <th>loanamount</th>\n",
       "      <th>totaldue</th>\n",
       "      <th>termdays</th>\n",
       "      <th>closeddate</th>\n",
       "      <th>referredby</th>\n",
       "      <th>firstduedate</th>\n",
       "      <th>firstrepaiddate</th>\n",
       "    </tr>\n",
       "  </thead>\n",
       "  <tbody>\n",
       "    <tr>\n",
       "      <th>0</th>\n",
       "      <td>8a858899538ddb8e015390510b321f08</td>\n",
       "      <td>301621635</td>\n",
       "      <td>3</td>\n",
       "      <td>2016-05-17 10:37:00</td>\n",
       "      <td>2016-05-17 09:36:55</td>\n",
       "      <td>10000.0</td>\n",
       "      <td>13000.0</td>\n",
       "      <td>30</td>\n",
       "      <td>2016-06-17 00:04:15</td>\n",
       "      <td>NaN</td>\n",
       "      <td>2016-06-16</td>\n",
       "      <td>2016-06-16 15:44:08</td>\n",
       "    </tr>\n",
       "    <tr>\n",
       "      <th>1</th>\n",
       "      <td>8a858959537a097401537a4e316e25f7</td>\n",
       "      <td>301810201</td>\n",
       "      <td>5</td>\n",
       "      <td>2017-02-04 21:28:59</td>\n",
       "      <td>2017-02-04 20:28:52</td>\n",
       "      <td>30000.0</td>\n",
       "      <td>36800.0</td>\n",
       "      <td>60</td>\n",
       "      <td>2017-03-02 16:22:58</td>\n",
       "      <td>NaN</td>\n",
       "      <td>2017-03-06</td>\n",
       "      <td>2017-03-02 16:07:47</td>\n",
       "    </tr>\n",
       "    <tr>\n",
       "      <th>2</th>\n",
       "      <td>8a858959537a097401537a4e316e25f7</td>\n",
       "      <td>301831255</td>\n",
       "      <td>6</td>\n",
       "      <td>2017-03-04 10:28:22</td>\n",
       "      <td>2017-03-04 09:28:16</td>\n",
       "      <td>30000.0</td>\n",
       "      <td>34400.0</td>\n",
       "      <td>30</td>\n",
       "      <td>2017-04-02 00:44:24</td>\n",
       "      <td>NaN</td>\n",
       "      <td>2017-04-03</td>\n",
       "      <td>2017-04-01 21:29:46</td>\n",
       "    </tr>\n",
       "    <tr>\n",
       "      <th>3</th>\n",
       "      <td>8a8589c253ace09b0153af6ba58f1f31</td>\n",
       "      <td>301627292</td>\n",
       "      <td>3</td>\n",
       "      <td>2016-06-02 14:27:14</td>\n",
       "      <td>2016-06-02 13:27:08</td>\n",
       "      <td>10000.0</td>\n",
       "      <td>13000.0</td>\n",
       "      <td>30</td>\n",
       "      <td>2016-07-04 11:34:04</td>\n",
       "      <td>NaN</td>\n",
       "      <td>2016-07-04</td>\n",
       "      <td>2016-07-04 11:19:01</td>\n",
       "    </tr>\n",
       "    <tr>\n",
       "      <th>4</th>\n",
       "      <td>8a8589c253ace09b0153af6ba58f1f31</td>\n",
       "      <td>301621095</td>\n",
       "      <td>2</td>\n",
       "      <td>2016-05-16 09:13:12</td>\n",
       "      <td>2016-05-16 08:13:04</td>\n",
       "      <td>10000.0</td>\n",
       "      <td>11500.0</td>\n",
       "      <td>15</td>\n",
       "      <td>2016-06-02 00:02:58</td>\n",
       "      <td>NaN</td>\n",
       "      <td>2016-05-31</td>\n",
       "      <td>2016-06-01 15:22:34</td>\n",
       "    </tr>\n",
       "  </tbody>\n",
       "</table>\n",
       "</div>"
      ],
      "text/plain": [
       "                         customerid  systemloanid  loannumber  \\\n",
       "0  8a858899538ddb8e015390510b321f08     301621635           3   \n",
       "1  8a858959537a097401537a4e316e25f7     301810201           5   \n",
       "2  8a858959537a097401537a4e316e25f7     301831255           6   \n",
       "3  8a8589c253ace09b0153af6ba58f1f31     301627292           3   \n",
       "4  8a8589c253ace09b0153af6ba58f1f31     301621095           2   \n",
       "\n",
       "         approveddate        creationdate  loanamount  totaldue  termdays  \\\n",
       "0 2016-05-17 10:37:00 2016-05-17 09:36:55     10000.0   13000.0        30   \n",
       "1 2017-02-04 21:28:59 2017-02-04 20:28:52     30000.0   36800.0        60   \n",
       "2 2017-03-04 10:28:22 2017-03-04 09:28:16     30000.0   34400.0        30   \n",
       "3 2016-06-02 14:27:14 2016-06-02 13:27:08     10000.0   13000.0        30   \n",
       "4 2016-05-16 09:13:12 2016-05-16 08:13:04     10000.0   11500.0        15   \n",
       "\n",
       "           closeddate referredby firstduedate     firstrepaiddate  \n",
       "0 2016-06-17 00:04:15        NaN   2016-06-16 2016-06-16 15:44:08  \n",
       "1 2017-03-02 16:22:58        NaN   2017-03-06 2017-03-02 16:07:47  \n",
       "2 2017-04-02 00:44:24        NaN   2017-04-03 2017-04-01 21:29:46  \n",
       "3 2016-07-04 11:34:04        NaN   2016-07-04 2016-07-04 11:19:01  \n",
       "4 2016-06-02 00:02:58        NaN   2016-05-31 2016-06-01 15:22:34  "
      ]
     },
     "metadata": {},
     "output_type": "display_data"
    },
    {
     "name": "stdout",
     "output_type": "stream",
     "text": [
      "SampleSubmission: (1450, 2)\n"
     ]
    },
    {
     "data": {
      "text/html": [
       "<div>\n",
       "<style scoped>\n",
       "    .dataframe tbody tr th:only-of-type {\n",
       "        vertical-align: middle;\n",
       "    }\n",
       "\n",
       "    .dataframe tbody tr th {\n",
       "        vertical-align: top;\n",
       "    }\n",
       "\n",
       "    .dataframe thead th {\n",
       "        text-align: right;\n",
       "    }\n",
       "</style>\n",
       "<table border=\"1\" class=\"dataframe\">\n",
       "  <thead>\n",
       "    <tr style=\"text-align: right;\">\n",
       "      <th></th>\n",
       "      <th>customerid</th>\n",
       "      <th>Good_Bad_flag</th>\n",
       "    </tr>\n",
       "  </thead>\n",
       "  <tbody>\n",
       "    <tr>\n",
       "      <th>0</th>\n",
       "      <td>8a28afc7474813a40147639ec637156b</td>\n",
       "      <td>1</td>\n",
       "    </tr>\n",
       "    <tr>\n",
       "      <th>1</th>\n",
       "      <td>8a3735d5518aba7301518ac34413010d</td>\n",
       "      <td>1</td>\n",
       "    </tr>\n",
       "    <tr>\n",
       "      <th>2</th>\n",
       "      <td>8a76e7d443e6e97c0143ed099d102b1d</td>\n",
       "      <td>1</td>\n",
       "    </tr>\n",
       "    <tr>\n",
       "      <th>3</th>\n",
       "      <td>8a818823525dceef01525deda2480384</td>\n",
       "      <td>1</td>\n",
       "    </tr>\n",
       "    <tr>\n",
       "      <th>4</th>\n",
       "      <td>8a818926522ea5ef01523aff15c37482</td>\n",
       "      <td>1</td>\n",
       "    </tr>\n",
       "  </tbody>\n",
       "</table>\n",
       "</div>"
      ],
      "text/plain": [
       "                         customerid  Good_Bad_flag\n",
       "0  8a28afc7474813a40147639ec637156b              1\n",
       "1  8a3735d5518aba7301518ac34413010d              1\n",
       "2  8a76e7d443e6e97c0143ed099d102b1d              1\n",
       "3  8a818823525dceef01525deda2480384              1\n",
       "4  8a818926522ea5ef01523aff15c37482              1"
      ]
     },
     "metadata": {},
     "output_type": "display_data"
    }
   ],
   "source": [
    "print(f'demographie train : {traindemographics.shape}')\n",
    "display(traindemographics.head())\n",
    "print(f'demographie test: {testdemographics.shape}')\n",
    "display(testdemographics.head())\n",
    "\n",
    "print(f'perf train: {trainperf.shape}')\n",
    "display(trainperf.head())\n",
    "print(f'perf test: {testperf.shape}')\n",
    "display(testperf.head())\n",
    "\n",
    "print(f'prevloan train: {trainprevloans.shape}')\n",
    "display(trainprevloans.head())\n",
    "print(f'prevloan test: {testprevloans.shape}')\n",
    "display(testprevloans.head())\n",
    "print(f'SampleSubmission: {SampleSubmission.shape}')\n",
    "display(SampleSubmission.head())"
   ]
  },
  {
   "cell_type": "code",
   "execution_count": 1326,
   "metadata": {},
   "outputs": [],
   "source": [
    "#fusion des data demographics et prevloan\n",
    "demographics=pd.concat((traindemographics,testdemographics))\n",
    "prevloan=pd.concat((trainprevloans,testprevloans))"
   ]
  },
  {
   "cell_type": "code",
   "execution_count": 1327,
   "metadata": {},
   "outputs": [
    {
     "data": {
      "text/plain": [
       "(5833, 9)"
      ]
     },
     "execution_count": 1327,
     "metadata": {},
     "output_type": "execute_result"
    }
   ],
   "source": [
    "demographics.shape"
   ]
  },
  {
   "cell_type": "markdown",
   "metadata": {},
   "source": [
    "## Analyse Data Demographics"
   ]
  },
  {
   "cell_type": "code",
   "execution_count": 1328,
   "metadata": {},
   "outputs": [
    {
     "data": {
      "text/html": [
       "<div>\n",
       "<style scoped>\n",
       "    .dataframe tbody tr th:only-of-type {\n",
       "        vertical-align: middle;\n",
       "    }\n",
       "\n",
       "    .dataframe tbody tr th {\n",
       "        vertical-align: top;\n",
       "    }\n",
       "\n",
       "    .dataframe thead th {\n",
       "        text-align: right;\n",
       "    }\n",
       "</style>\n",
       "<table border=\"1\" class=\"dataframe\">\n",
       "  <thead>\n",
       "    <tr style=\"text-align: right;\">\n",
       "      <th></th>\n",
       "      <th>customerid</th>\n",
       "      <th>birthdate</th>\n",
       "      <th>bank_account_type</th>\n",
       "      <th>longitude_gps</th>\n",
       "      <th>latitude_gps</th>\n",
       "      <th>bank_name_clients</th>\n",
       "      <th>bank_branch_clients</th>\n",
       "      <th>employment_status_clients</th>\n",
       "      <th>level_of_education_clients</th>\n",
       "    </tr>\n",
       "  </thead>\n",
       "  <tbody>\n",
       "    <tr>\n",
       "      <th>0</th>\n",
       "      <td>8a858e135cb22031015cbafc76964ebd</td>\n",
       "      <td>1973-10-10</td>\n",
       "      <td>Savings</td>\n",
       "      <td>3.319219</td>\n",
       "      <td>6.528604</td>\n",
       "      <td>GT Bank</td>\n",
       "      <td>NaN</td>\n",
       "      <td>NaN</td>\n",
       "      <td>NaN</td>\n",
       "    </tr>\n",
       "    <tr>\n",
       "      <th>1</th>\n",
       "      <td>8a858e275c7ea5ec015c82482d7c3996</td>\n",
       "      <td>1986-01-21</td>\n",
       "      <td>Savings</td>\n",
       "      <td>3.325598</td>\n",
       "      <td>7.119403</td>\n",
       "      <td>Sterling Bank</td>\n",
       "      <td>NaN</td>\n",
       "      <td>Permanent</td>\n",
       "      <td>NaN</td>\n",
       "    </tr>\n",
       "    <tr>\n",
       "      <th>2</th>\n",
       "      <td>8a858e5b5bd99460015bdc95cd485634</td>\n",
       "      <td>1987-04-01</td>\n",
       "      <td>Savings</td>\n",
       "      <td>5.746100</td>\n",
       "      <td>5.563174</td>\n",
       "      <td>Fidelity Bank</td>\n",
       "      <td>NaN</td>\n",
       "      <td>NaN</td>\n",
       "      <td>NaN</td>\n",
       "    </tr>\n",
       "    <tr>\n",
       "      <th>3</th>\n",
       "      <td>8a858efd5ca70688015cabd1f1e94b55</td>\n",
       "      <td>1991-07-19</td>\n",
       "      <td>Savings</td>\n",
       "      <td>3.362850</td>\n",
       "      <td>6.642485</td>\n",
       "      <td>GT Bank</td>\n",
       "      <td>NaN</td>\n",
       "      <td>Permanent</td>\n",
       "      <td>NaN</td>\n",
       "    </tr>\n",
       "    <tr>\n",
       "      <th>4</th>\n",
       "      <td>8a858e785acd3412015acd48f4920d04</td>\n",
       "      <td>1982-11-22</td>\n",
       "      <td>Savings</td>\n",
       "      <td>8.455332</td>\n",
       "      <td>11.971410</td>\n",
       "      <td>GT Bank</td>\n",
       "      <td>NaN</td>\n",
       "      <td>Permanent</td>\n",
       "      <td>NaN</td>\n",
       "    </tr>\n",
       "  </tbody>\n",
       "</table>\n",
       "</div>"
      ],
      "text/plain": [
       "                         customerid  birthdate bank_account_type  \\\n",
       "0  8a858e135cb22031015cbafc76964ebd 1973-10-10           Savings   \n",
       "1  8a858e275c7ea5ec015c82482d7c3996 1986-01-21           Savings   \n",
       "2  8a858e5b5bd99460015bdc95cd485634 1987-04-01           Savings   \n",
       "3  8a858efd5ca70688015cabd1f1e94b55 1991-07-19           Savings   \n",
       "4  8a858e785acd3412015acd48f4920d04 1982-11-22           Savings   \n",
       "\n",
       "   longitude_gps  latitude_gps bank_name_clients bank_branch_clients  \\\n",
       "0       3.319219      6.528604           GT Bank                 NaN   \n",
       "1       3.325598      7.119403     Sterling Bank                 NaN   \n",
       "2       5.746100      5.563174     Fidelity Bank                 NaN   \n",
       "3       3.362850      6.642485           GT Bank                 NaN   \n",
       "4       8.455332     11.971410           GT Bank                 NaN   \n",
       "\n",
       "  employment_status_clients level_of_education_clients  \n",
       "0                       NaN                        NaN  \n",
       "1                 Permanent                        NaN  \n",
       "2                       NaN                        NaN  \n",
       "3                 Permanent                        NaN  \n",
       "4                 Permanent                        NaN  "
      ]
     },
     "execution_count": 1328,
     "metadata": {},
     "output_type": "execute_result"
    }
   ],
   "source": [
    "demographics.head()"
   ]
  },
  {
   "cell_type": "code",
   "execution_count": 1329,
   "metadata": {},
   "outputs": [],
   "source": [
    "demographics.drop_duplicates(inplace=True)"
   ]
  },
  {
   "cell_type": "code",
   "execution_count": 1330,
   "metadata": {},
   "outputs": [
    {
     "data": {
      "text/plain": [
       "(5818, 9)"
      ]
     },
     "execution_count": 1330,
     "metadata": {},
     "output_type": "execute_result"
    }
   ],
   "source": [
    "demographics.shape"
   ]
  },
  {
   "cell_type": "code",
   "execution_count": 1331,
   "metadata": {},
   "outputs": [
    {
     "data": {
      "text/plain": [
       "Index(['customerid', 'birthdate', 'bank_account_type', 'longitude_gps',\n",
       "       'latitude_gps', 'bank_name_clients', 'bank_branch_clients',\n",
       "       'employment_status_clients', 'level_of_education_clients'],\n",
       "      dtype='object')"
      ]
     },
     "execution_count": 1331,
     "metadata": {},
     "output_type": "execute_result"
    }
   ],
   "source": [
    "demographics.columns"
   ]
  },
  {
   "cell_type": "code",
   "execution_count": 1332,
   "metadata": {},
   "outputs": [
    {
     "name": "stdout",
     "output_type": "stream",
     "text": [
      "<class 'pandas.core.frame.DataFrame'>\n",
      "Int64Index: 5818 entries, 0 to 1486\n",
      "Data columns (total 9 columns):\n",
      " #   Column                      Non-Null Count  Dtype         \n",
      "---  ------                      --------------  -----         \n",
      " 0   customerid                  5818 non-null   object        \n",
      " 1   birthdate                   5818 non-null   datetime64[ns]\n",
      " 2   bank_account_type           5818 non-null   object        \n",
      " 3   longitude_gps               5818 non-null   float64       \n",
      " 4   latitude_gps                5818 non-null   float64       \n",
      " 5   bank_name_clients           5818 non-null   object        \n",
      " 6   bank_branch_clients         65 non-null     object        \n",
      " 7   employment_status_clients   4953 non-null   object        \n",
      " 8   level_of_education_clients  795 non-null    object        \n",
      "dtypes: datetime64[ns](1), float64(2), object(6)\n",
      "memory usage: 454.5+ KB\n"
     ]
    }
   ],
   "source": [
    "demographics.info()"
   ]
  },
  {
   "cell_type": "markdown",
   "metadata": {},
   "source": [
    "On a **6 variables qualitatives, 1 date et 2 variables quantiatives**. "
   ]
  },
  {
   "cell_type": "markdown",
   "metadata": {},
   "source": [
    "## Valeurs manquantes "
   ]
  },
  {
   "cell_type": "code",
   "execution_count": 1333,
   "metadata": {},
   "outputs": [
    {
     "data": {
      "text/plain": [
       "bank_branch_clients           98.882778\n",
       "level_of_education_clients    86.335510\n",
       "employment_status_clients     14.867652\n",
       "customerid                     0.000000\n",
       "birthdate                      0.000000\n",
       "bank_account_type              0.000000\n",
       "longitude_gps                  0.000000\n",
       "latitude_gps                   0.000000\n",
       "bank_name_clients              0.000000\n",
       "dtype: float64"
      ]
     },
     "execution_count": 1333,
     "metadata": {},
     "output_type": "execute_result"
    }
   ],
   "source": [
    "# Graphe valeur manquante avec couleur !! Bonne visualtion par chaque colonne \n",
    "(demographics.isnull().sum()/demographics.shape[0]).sort_values(ascending=False)*100"
   ]
  },
  {
   "cell_type": "markdown",
   "metadata": {},
   "source": [
    "**On a 3 varibales qui admentent des valeurs manquantes : bank_branch_clients (98%), level_of_education_clients, employment_status_clients.**"
   ]
  },
  {
   "cell_type": "markdown",
   "metadata": {},
   "source": [
    "### Variable bank_account_type"
   ]
  },
  {
   "cell_type": "code",
   "execution_count": 1334,
   "metadata": {},
   "outputs": [
    {
     "name": "stdout",
     "output_type": "stream",
     "text": [
      "nombre de moadalités :  3\n"
     ]
    },
    {
     "data": {
      "text/plain": [
       "Savings    78.549330\n",
       "Other      20.075627\n",
       "Current     1.375043\n",
       "Name: bank_account_type, dtype: float64"
      ]
     },
     "execution_count": 1334,
     "metadata": {},
     "output_type": "execute_result"
    }
   ],
   "source": [
    "#plot le graphique avec les pourcentages dessus + changer la taille et trouver un thème plus chic) et exporter \n",
    "#focntion pour tracer plusieurs bar plot et generer des interpretations basiques)\n",
    "print(\"nombre de moadalités : \",demographics[\"bank_account_type\"].nunique())\n",
    "(demographics[\"bank_account_type\"].value_counts()/demographics.shape[0])*100"
   ]
  },
  {
   "cell_type": "code",
   "execution_count": 1335,
   "metadata": {},
   "outputs": [
    {
     "data": {
      "image/png": "[encoded data removed]",
      "text/plain": [
       "<Figure size 432x288 with 1 Axes>"
      ]
     },
     "metadata": {},
     "output_type": "display_data"
    }
   ],
   "source": [
    "sns.countplot(x='bank_account_type',data=demographics)\n",
    "plt.show()"
   ]
  },
  {
   "cell_type": "markdown",
   "metadata": {},
   "source": [
    " **Cette variable admet trois modalités ( saving,other et Current ). la modalité saving est la plus representée. cette variable admet des modalités déséquilibrées. Il est nominale.**"
   ]
  },
  {
   "cell_type": "markdown",
   "metadata": {},
   "source": [
    "## Variable bank_name_clients"
   ]
  },
  {
   "cell_type": "code",
   "execution_count": 1336,
   "metadata": {},
   "outputs": [
    {
     "name": "stdout",
     "output_type": "stream",
     "text": [
      "nombre de moadalités :  18\n"
     ]
    },
    {
     "data": {
      "text/plain": [
       "GT Bank               36.576143\n",
       "First Bank            13.578549\n",
       "Access Bank            9.745617\n",
       "UBA                    7.923685\n",
       "Zenith Bank            7.081471\n",
       "Diamond Bank           6.737711\n",
       "EcoBank                3.471983\n",
       "Stanbic IBTC           3.317291\n",
       "FCMB                   2.887590\n",
       "Skye Bank              2.509453\n",
       "Fidelity Bank          2.389137\n",
       "Sterling Bank          1.151598\n",
       "Wema Bank              0.635957\n",
       "Union Bank             0.618769\n",
       "Heritage Bank          0.464077\n",
       "Keystone Bank          0.429701\n",
       "Standard Chartered     0.326573\n",
       "Unity Bank             0.154692\n",
       "Name: bank_name_clients, dtype: float64"
      ]
     },
     "execution_count": 1336,
     "metadata": {},
     "output_type": "execute_result"
    }
   ],
   "source": [
    "print(\"nombre de moadalités : \",demographics[\"bank_name_clients\"].nunique())\n",
    "(demographics[\"bank_name_clients\"].value_counts()/demographics.shape[0])*100"
   ]
  },
  {
   "cell_type": "code",
   "execution_count": 1337,
   "metadata": {},
   "outputs": [
    {
     "data": {
      "image/png": "[encoded data removed]",
      "text/plain": [
       "<Figure size 432x288 with 1 Axes>"
      ]
     },
     "metadata": {},
     "output_type": "display_data"
    }
   ],
   "source": [
    "sns.countplot(y='bank_name_clients',data=demographics)\n",
    "plt.show()"
   ]
  },
  {
   "cell_type": "markdown",
   "metadata": {},
   "source": [
    "**Nous avons 18 modalités, la modalité GT Bank est largement la plus representée, avec UBA, First Bank. Nous avons des modalités qui sont très peu presentes ( Unity Bank , Standard Chartered )**. "
   ]
  },
  {
   "cell_type": "markdown",
   "metadata": {},
   "source": [
    "## Variable  bank_branch_clients"
   ]
  },
  {
   "cell_type": "code",
   "execution_count": 1338,
   "metadata": {},
   "outputs": [
    {
     "name": "stdout",
     "output_type": "stream",
     "text": [
      "nombre de moadalités :  55\n"
     ]
    },
    {
     "data": {
      "text/plain": [
       "NaN                                                               98.882778\n",
       "HEAD OFFICE                                                        0.051564\n",
       "OGBA                                                               0.051564\n",
       "OBA AKRAN                                                          0.051564\n",
       "APAPA                                                              0.051564\n",
       "AJOSE ADEOGUN                                                      0.034376\n",
       "OREGUN                                                             0.034376\n",
       "MAFOLUKU                                                           0.017188\n",
       "LEKKI EPE                                                          0.017188\n",
       "GBAGADA                                                            0.017188\n",
       "AKOWONJO                                                           0.017188\n",
       "DUGBE,IBADAN                                                       0.017188\n",
       "17, SANUSI FAFUNWA STREET, VICTORIA ISLAND, LAGOS                  0.017188\n",
       "ILUPEJU                                                            0.017188\n",
       "WHARF ROAD, APAPA                                                  0.017188\n",
       "ADEOLA HOPEWELL                                                    0.017188\n",
       "AKURE BRANCH                                                       0.017188\n",
       "TINCAN                                                             0.017188\n",
       " IDI - ORO MUSHIN                                                  0.017188\n",
       "PLOT 999C DANMOLE STREET, ADEOLA ODEKU, VICTORIA ISLAND, LAGOS     0.017188\n",
       "APAPA 1 COMMERCIAL ROAD                                            0.017188\n",
       "AKUTE,LAGOS.                                                       0.017188\n",
       "KEFFI BRANCH IKOYI                                                 0.017188\n",
       "3, OBA AKRAN                                                       0.017188\n",
       "IKEJA                                                              0.017188\n",
       "IWO ROAD BRANCH                                                    0.017188\n",
       "PAIKO ROAD, MINNA                                                  0.017188\n",
       "RCCG CAMP                                                          0.017188\n",
       "AKOKA                                                              0.017188\n",
       "HERITAGE BANK, DUGBE, IBADAN                                       0.017188\n",
       "47 LAGOS ROAD, IKORODU                                             0.017188\n",
       "RING ROAD                                                          0.017188\n",
       "MUSHIN BRANCH                                                      0.017188\n",
       "LADIPO                                                             0.017188\n",
       "AWOLOWO                                                            0.017188\n",
       "ABULE EGBA                                                         0.017188\n",
       "ABEOKUTA                                                           0.017188\n",
       "TRANS AMADI                                                        0.017188\n",
       "OBA AKRAN BERGER PAINT                                             0.017188\n",
       "BOSSO ROAD, MINNA                                                  0.017188\n",
       "DUGBE, IBADAN                                                      0.017188\n",
       "ALAUSA                                                             0.017188\n",
       "OJUELEGBA                                                          0.017188\n",
       "AKUTE                                                              0.017188\n",
       "OAU ILE IFE                                                        0.017188\n",
       "OBA ADEBIMPE                                                       0.017188\n",
       "STERLING BANK PLC 102, IJU ROAD, IFAKO BRANCH                      0.017188\n",
       "MEDICAL ROAD IKEJA                                                 0.017188\n",
       "ADENIRAN OGUNSANYA                                                 0.017188\n",
       "40,SAPELE ROAD ,OPPOSITE DUMAZ JUNCTION BENIN CITY EDO STATE.      0.017188\n",
       "ACCESS BANK PLC, CHALLENGE ROUNDABOUT IBADAN, OYO STATE.           0.017188\n",
       "ABULE EGBA U-TURN,BRANCH                                           0.017188\n",
       "OGUDU, OJOTA                                                       0.017188\n",
       "OBA AKRAN ROAD, IKEJA,                                             0.017188\n",
       "LAGOS                                                              0.017188\n",
       "ADETOKUNBO ADEMOLA                                                 0.017188\n",
       "Name: bank_branch_clients, dtype: float64"
      ]
     },
     "execution_count": 1338,
     "metadata": {},
     "output_type": "execute_result"
    }
   ],
   "source": [
    "print(\"nombre de moadalités : \",demographics[\"bank_branch_clients\"].nunique())\n",
    "(demographics[\"bank_branch_clients\"].value_counts(dropna=False)/demographics.shape[0])*100"
   ]
  },
  {
   "cell_type": "code",
   "execution_count": 1339,
   "metadata": {},
   "outputs": [
    {
     "data": {
      "image/png": "[encoded data removed]",
      "text/plain": [
       "<Figure size 432x288 with 1 Axes>"
      ]
     },
     "metadata": {},
     "output_type": "display_data"
    }
   ],
   "source": [
    "sns.countplot(y='bank_branch_clients',data=demographics)\n",
    "plt.show()"
   ]
  },
  {
   "cell_type": "markdown",
   "metadata": {},
   "source": [
    "**Trop de modalités et à faible effectif !!  variable à supprimer à priori.**"
   ]
  },
  {
   "cell_type": "markdown",
   "metadata": {},
   "source": [
    "## Variable Employment_status_clients"
   ]
  },
  {
   "cell_type": "code",
   "execution_count": 1340,
   "metadata": {},
   "outputs": [
    {
     "name": "stdout",
     "output_type": "stream",
     "text": [
      "nombre de moadalités :  6\n"
     ]
    },
    {
     "data": {
      "text/plain": [
       "Permanent        72.275696\n",
       "Self-Employed     8.078377\n",
       "Student           3.248539\n",
       "Unemployed        1.357855\n",
       "Retired           0.137504\n",
       "Contract          0.034376\n",
       "Name: employment_status_clients, dtype: float64"
      ]
     },
     "execution_count": 1340,
     "metadata": {},
     "output_type": "execute_result"
    }
   ],
   "source": [
    "print(\"nombre de moadalités : \",demographics[\"employment_status_clients\"].nunique())\n",
    "(demographics[\"employment_status_clients\"].value_counts()/demographics.shape[0])*100"
   ]
  },
  {
   "cell_type": "code",
   "execution_count": 1341,
   "metadata": {},
   "outputs": [
    {
     "data": {
      "image/png": "[encoded data removed]",
      "text/plain": [
       "<Figure size 432x288 with 1 Axes>"
      ]
     },
     "metadata": {},
     "output_type": "display_data"
    }
   ],
   "source": [
    "sns.countplot(y='employment_status_clients',data=demographics)\n",
    "plt.show()"
   ]
  },
  {
   "cell_type": "markdown",
   "metadata": {},
   "source": [
    "**Les clients ont majoriterement des postes permanents ( 72%). Très peu de retraités et de contractuels. La variable a 6 modalités**"
   ]
  },
  {
   "cell_type": "markdown",
   "metadata": {},
   "source": [
    "## Variable level_of_education_clients"
   ]
  },
  {
   "cell_type": "code",
   "execution_count": 1342,
   "metadata": {},
   "outputs": [
    {
     "name": "stdout",
     "output_type": "stream",
     "text": [
      "nombre de moadalités :  4\n"
     ]
    },
    {
     "data": {
      "text/plain": [
       "Graduate         9.900309\n",
       "Secondary        2.028188\n",
       "Post-Graduate    1.546923\n",
       "Primary          0.189068\n",
       "Name: level_of_education_clients, dtype: float64"
      ]
     },
     "execution_count": 1342,
     "metadata": {},
     "output_type": "execute_result"
    }
   ],
   "source": [
    "print(\"nombre de moadalités : \",demographics[\"level_of_education_clients\"].nunique())\n",
    "(demographics[\"level_of_education_clients\"].value_counts()/demographics.shape[0])*100"
   ]
  },
  {
   "cell_type": "code",
   "execution_count": 1343,
   "metadata": {},
   "outputs": [
    {
     "data": {
      "image/png": "[encoded data removed]",
      "text/plain": [
       "<Figure size 432x288 with 1 Axes>"
      ]
     },
     "metadata": {},
     "output_type": "display_data"
    }
   ],
   "source": [
    "sns.countplot(y='level_of_education_clients',data=demographics)\n",
    "plt.show()"
   ]
  },
  {
   "cell_type": "markdown",
   "metadata": {},
   "source": [
    "**Cette variable admet 4 modalités. Elle semble importante mais ella admet 86% de valeurs manquantes, c'est énorme !!!**"
   ]
  },
  {
   "cell_type": "markdown",
   "metadata": {},
   "source": [
    "**Pas d'intérêt de representer des variables longitudes et latitudes. elle nous joue clairement un rôle dans la construction du modèle.**"
   ]
  },
  {
   "cell_type": "markdown",
   "metadata": {},
   "source": [
    "### Feature Engineering variable Birthdate"
   ]
  },
  {
   "cell_type": "code",
   "execution_count": 1344,
   "metadata": {},
   "outputs": [
    {
     "data": {
      "text/plain": [
       "<AxesSubplot:ylabel='Frequency'>"
      ]
     },
     "execution_count": 1344,
     "metadata": {},
     "output_type": "execute_result"
    },
    {
     "data": {
      "image/png": "[encoded data removed]",
      "text/plain": [
       "<Figure size 432x288 with 1 Axes>"
      ]
     },
     "metadata": {},
     "output_type": "display_data"
    }
   ],
   "source": [
    "#Graphique fonction ( une variable qui trace histogramme + density et boxplot)\n",
    "Age = 2022-demographics['birthdate'].dt.year\n",
    "Age.plot(kind='hist')"
   ]
  },
  {
   "cell_type": "code",
   "execution_count": 1345,
   "metadata": {},
   "outputs": [
    {
     "data": {
      "text/plain": [
       "<AxesSubplot:>"
      ]
     },
     "execution_count": 1345,
     "metadata": {},
     "output_type": "execute_result"
    },
    {
     "data": {
      "image/png": "[encoded data removed]",
      "text/plain": [
       "<Figure size 432x288 with 1 Axes>"
      ]
     },
     "metadata": {},
     "output_type": "display_data"
    }
   ],
   "source": [
    "Age.plot(kind='box')"
   ]
  },
  {
   "cell_type": "markdown",
   "metadata": {},
   "source": [
    "La variable Age semble suivre une distribution normale (un peu asymétrique à gauche)."
   ]
  },
  {
   "cell_type": "code",
   "execution_count": 1346,
   "metadata": {},
   "outputs": [
    {
     "data": {
      "text/plain": [
       "count    5818.000000\n",
       "mean       37.960639\n",
       "std         6.174445\n",
       "min        26.000000\n",
       "25%        34.000000\n",
       "50%        37.000000\n",
       "75%        42.000000\n",
       "max        61.000000\n",
       "Name: birthdate, dtype: float64"
      ]
     },
     "execution_count": 1346,
     "metadata": {},
     "output_type": "execute_result"
    }
   ],
   "source": [
    "#Skewness + Kurtosis ( une fonction qui prend un data frame et donnne toutes les statistqiues imporantes)\n",
    "Age.describe()"
   ]
  },
  {
   "cell_type": "code",
   "execution_count": 1347,
   "metadata": {},
   "outputs": [],
   "source": [
    "# Ajout de la colonne Age \n",
    "demographics[\"age\"]=Age"
   ]
  },
  {
   "cell_type": "markdown",
   "metadata": {},
   "source": [
    "**Pas d'analyse bivariée pertinente à faire vu la signification des variables**"
   ]
  },
  {
   "cell_type": "code",
   "execution_count": 1348,
   "metadata": {},
   "outputs": [],
   "source": [
    "col_supp=[\"bank_branch_clients\",\"level_of_education_clients\",\"employment_status_clients\",\"longitude_gps\",\"latitude_gps\",\"birthdate\"]\n",
    "demographics_new=demographics.drop(col_supp,axis=1)"
   ]
  },
  {
   "cell_type": "code",
   "execution_count": 1349,
   "metadata": {},
   "outputs": [
    {
     "data": {
      "text/plain": [
       "(5818, 4)"
      ]
     },
     "execution_count": 1349,
     "metadata": {},
     "output_type": "execute_result"
    }
   ],
   "source": [
    "demographics_new.shape"
   ]
  },
  {
   "cell_type": "code",
   "execution_count": 1350,
   "metadata": {},
   "outputs": [
    {
     "data": {
      "text/plain": [
       "Index(['customerid', 'bank_account_type', 'bank_name_clients', 'age'], dtype='object')"
      ]
     },
     "execution_count": 1350,
     "metadata": {},
     "output_type": "execute_result"
    }
   ],
   "source": [
    "demographics_new.columns"
   ]
  },
  {
   "cell_type": "markdown",
   "metadata": {},
   "source": [
    "## Analyse Data Prevloan"
   ]
  },
  {
   "cell_type": "code",
   "execution_count": 1351,
   "metadata": {},
   "outputs": [
    {
     "data": {
      "text/html": [
       "<div>\n",
       "<style scoped>\n",
       "    .dataframe tbody tr th:only-of-type {\n",
       "        vertical-align: middle;\n",
       "    }\n",
       "\n",
       "    .dataframe tbody tr th {\n",
       "        vertical-align: top;\n",
       "    }\n",
       "\n",
       "    .dataframe thead th {\n",
       "        text-align: right;\n",
       "    }\n",
       "</style>\n",
       "<table border=\"1\" class=\"dataframe\">\n",
       "  <thead>\n",
       "    <tr style=\"text-align: right;\">\n",
       "      <th></th>\n",
       "      <th>customerid</th>\n",
       "      <th>systemloanid</th>\n",
       "      <th>loannumber</th>\n",
       "      <th>approveddate</th>\n",
       "      <th>creationdate</th>\n",
       "      <th>loanamount</th>\n",
       "      <th>totaldue</th>\n",
       "      <th>termdays</th>\n",
       "      <th>closeddate</th>\n",
       "      <th>referredby</th>\n",
       "      <th>firstduedate</th>\n",
       "      <th>firstrepaiddate</th>\n",
       "    </tr>\n",
       "  </thead>\n",
       "  <tbody>\n",
       "    <tr>\n",
       "      <th>0</th>\n",
       "      <td>8a2a81a74ce8c05d014cfb32a0da1049</td>\n",
       "      <td>301682320</td>\n",
       "      <td>2</td>\n",
       "      <td>2016-08-15 18:22:40</td>\n",
       "      <td>2016-08-15 17:22:32</td>\n",
       "      <td>10000.0</td>\n",
       "      <td>13000.0</td>\n",
       "      <td>30</td>\n",
       "      <td>2016-09-01 16:06:48</td>\n",
       "      <td>NaN</td>\n",
       "      <td>2016-09-14</td>\n",
       "      <td>2016-09-01 15:51:43</td>\n",
       "    </tr>\n",
       "    <tr>\n",
       "      <th>1</th>\n",
       "      <td>8a2a81a74ce8c05d014cfb32a0da1049</td>\n",
       "      <td>301883808</td>\n",
       "      <td>9</td>\n",
       "      <td>2017-04-28 18:39:07</td>\n",
       "      <td>2017-04-28 17:38:53</td>\n",
       "      <td>10000.0</td>\n",
       "      <td>13000.0</td>\n",
       "      <td>30</td>\n",
       "      <td>2017-05-28 14:44:49</td>\n",
       "      <td>NaN</td>\n",
       "      <td>2017-05-30</td>\n",
       "      <td>2017-05-26 00:00:00</td>\n",
       "    </tr>\n",
       "    <tr>\n",
       "      <th>2</th>\n",
       "      <td>8a2a81a74ce8c05d014cfb32a0da1049</td>\n",
       "      <td>301831714</td>\n",
       "      <td>8</td>\n",
       "      <td>2017-03-05 10:56:25</td>\n",
       "      <td>2017-03-05 09:56:19</td>\n",
       "      <td>20000.0</td>\n",
       "      <td>23800.0</td>\n",
       "      <td>30</td>\n",
       "      <td>2017-04-26 22:18:56</td>\n",
       "      <td>NaN</td>\n",
       "      <td>2017-04-04</td>\n",
       "      <td>2017-04-26 22:03:47</td>\n",
       "    </tr>\n",
       "    <tr>\n",
       "      <th>3</th>\n",
       "      <td>8a8588f35438fe12015444567666018e</td>\n",
       "      <td>301861541</td>\n",
       "      <td>5</td>\n",
       "      <td>2017-04-09 18:25:55</td>\n",
       "      <td>2017-04-09 17:25:42</td>\n",
       "      <td>10000.0</td>\n",
       "      <td>11500.0</td>\n",
       "      <td>15</td>\n",
       "      <td>2017-04-24 01:35:52</td>\n",
       "      <td>NaN</td>\n",
       "      <td>2017-04-24</td>\n",
       "      <td>2017-04-24 00:48:43</td>\n",
       "    </tr>\n",
       "    <tr>\n",
       "      <th>4</th>\n",
       "      <td>8a85890754145ace015429211b513e16</td>\n",
       "      <td>301941754</td>\n",
       "      <td>2</td>\n",
       "      <td>2017-06-17 09:29:57</td>\n",
       "      <td>2017-06-17 08:29:50</td>\n",
       "      <td>10000.0</td>\n",
       "      <td>11500.0</td>\n",
       "      <td>15</td>\n",
       "      <td>2017-07-14 21:18:43</td>\n",
       "      <td>NaN</td>\n",
       "      <td>2017-07-03</td>\n",
       "      <td>2017-07-14 21:08:35</td>\n",
       "    </tr>\n",
       "  </tbody>\n",
       "</table>\n",
       "</div>"
      ],
      "text/plain": [
       "                         customerid  systemloanid  loannumber  \\\n",
       "0  8a2a81a74ce8c05d014cfb32a0da1049     301682320           2   \n",
       "1  8a2a81a74ce8c05d014cfb32a0da1049     301883808           9   \n",
       "2  8a2a81a74ce8c05d014cfb32a0da1049     301831714           8   \n",
       "3  8a8588f35438fe12015444567666018e     301861541           5   \n",
       "4  8a85890754145ace015429211b513e16     301941754           2   \n",
       "\n",
       "         approveddate        creationdate  loanamount  totaldue  termdays  \\\n",
       "0 2016-08-15 18:22:40 2016-08-15 17:22:32     10000.0   13000.0        30   \n",
       "1 2017-04-28 18:39:07 2017-04-28 17:38:53     10000.0   13000.0        30   \n",
       "2 2017-03-05 10:56:25 2017-03-05 09:56:19     20000.0   23800.0        30   \n",
       "3 2017-04-09 18:25:55 2017-04-09 17:25:42     10000.0   11500.0        15   \n",
       "4 2017-06-17 09:29:57 2017-06-17 08:29:50     10000.0   11500.0        15   \n",
       "\n",
       "           closeddate referredby firstduedate     firstrepaiddate  \n",
       "0 2016-09-01 16:06:48        NaN   2016-09-14 2016-09-01 15:51:43  \n",
       "1 2017-05-28 14:44:49        NaN   2017-05-30 2017-05-26 00:00:00  \n",
       "2 2017-04-26 22:18:56        NaN   2017-04-04 2017-04-26 22:03:47  \n",
       "3 2017-04-24 01:35:52        NaN   2017-04-24 2017-04-24 00:48:43  \n",
       "4 2017-07-14 21:18:43        NaN   2017-07-03 2017-07-14 21:08:35  "
      ]
     },
     "execution_count": 1351,
     "metadata": {},
     "output_type": "execute_result"
    }
   ],
   "source": [
    "prevloan.head()"
   ]
  },
  {
   "cell_type": "code",
   "execution_count": 1352,
   "metadata": {},
   "outputs": [
    {
     "name": "stdout",
     "output_type": "stream",
     "text": [
      "<class 'pandas.core.frame.DataFrame'>\n",
      "Int64Index: 24090 entries, 0 to 5906\n",
      "Data columns (total 12 columns):\n",
      " #   Column           Non-Null Count  Dtype         \n",
      "---  ------           --------------  -----         \n",
      " 0   customerid       24090 non-null  object        \n",
      " 1   systemloanid     24090 non-null  int64         \n",
      " 2   loannumber       24090 non-null  int64         \n",
      " 3   approveddate     24090 non-null  datetime64[ns]\n",
      " 4   creationdate     24090 non-null  datetime64[ns]\n",
      " 5   loanamount       24090 non-null  float64       \n",
      " 6   totaldue         24090 non-null  float64       \n",
      " 7   termdays         24090 non-null  int64         \n",
      " 8   closeddate       24090 non-null  datetime64[ns]\n",
      " 9   referredby       1351 non-null   object        \n",
      " 10  firstduedate     24090 non-null  datetime64[ns]\n",
      " 11  firstrepaiddate  24090 non-null  datetime64[ns]\n",
      "dtypes: datetime64[ns](5), float64(2), int64(3), object(2)\n",
      "memory usage: 2.4+ MB\n"
     ]
    }
   ],
   "source": [
    "prevloan.info()"
   ]
  },
  {
   "cell_type": "code",
   "execution_count": 1353,
   "metadata": {},
   "outputs": [],
   "source": [
    "prevloan.drop_duplicates(inplace=True)"
   ]
  },
  {
   "cell_type": "markdown",
   "metadata": {},
   "source": [
    "## Valeurs manquantes "
   ]
  },
  {
   "cell_type": "code",
   "execution_count": 1354,
   "metadata": {},
   "outputs": [
    {
     "data": {
      "text/plain": [
       "(24090, 12)"
      ]
     },
     "execution_count": 1354,
     "metadata": {},
     "output_type": "execute_result"
    }
   ],
   "source": [
    "prevloan.shape"
   ]
  },
  {
   "cell_type": "code",
   "execution_count": 1355,
   "metadata": {},
   "outputs": [
    {
     "data": {
      "text/plain": [
       "referredby         94.391864\n",
       "customerid          0.000000\n",
       "systemloanid        0.000000\n",
       "loannumber          0.000000\n",
       "approveddate        0.000000\n",
       "creationdate        0.000000\n",
       "loanamount          0.000000\n",
       "totaldue            0.000000\n",
       "termdays            0.000000\n",
       "closeddate          0.000000\n",
       "firstduedate        0.000000\n",
       "firstrepaiddate     0.000000\n",
       "dtype: float64"
      ]
     },
     "execution_count": 1355,
     "metadata": {},
     "output_type": "execute_result"
    }
   ],
   "source": [
    " (prevloan.isnull().sum()/prevloan.shape[0]).sort_values(ascending=False)*100"
   ]
  },
  {
   "cell_type": "markdown",
   "metadata": {},
   "source": [
    "**colonne reffered By à supprimer**"
   ]
  },
  {
   "cell_type": "code",
   "execution_count": 1356,
   "metadata": {},
   "outputs": [
    {
     "data": {
      "text/plain": [
       "Index(['customerid', 'systemloanid', 'loannumber', 'approveddate',\n",
       "       'creationdate', 'loanamount', 'totaldue', 'termdays', 'closeddate',\n",
       "       'referredby', 'firstduedate', 'firstrepaiddate'],\n",
       "      dtype='object')"
      ]
     },
     "execution_count": 1356,
     "metadata": {},
     "output_type": "execute_result"
    }
   ],
   "source": [
    "prevloan.columns"
   ]
  },
  {
   "cell_type": "code",
   "execution_count": 1357,
   "metadata": {},
   "outputs": [
    {
     "data": {
      "text/plain": [
       "8a858ff554e290e10154fe4e6b3f648c    33\n",
       "8a858f7d5578012a01557ea194d94948    26\n",
       "8a858e4456ced8470156d73452f85335    22\n",
       "8a85886f54517ee0015470749d3c3ce7    21\n",
       "8a85888c548fb3d50154947fe59c32cf    21\n",
       "                                    ..\n",
       "8a858e005c2154c2015c2c44a86e0eaf     1\n",
       "8a858e675c3fe0a1015c52ff728c13e3     1\n",
       "8a858e8d5c35bc85015c376e591c637d     1\n",
       "8a858f215d2d2890015d30d3817d477e     1\n",
       "8a858e165cf9d8e3015cfffb0c61459f     1\n",
       "Name: customerid, Length: 5801, dtype: int64"
      ]
     },
     "execution_count": 1357,
     "metadata": {},
     "output_type": "execute_result"
    }
   ],
   "source": [
    "prevloan.customerid.value_counts()"
   ]
  },
  {
   "cell_type": "markdown",
   "metadata": {},
   "source": [
    "**On a plusieurs variables date et des plusieurs infos sur les mêmes clients sont présents dans les données. On doit donc regrouper les informations et faire du features engineering sur les variables dates**"
   ]
  },
  {
   "cell_type": "code",
   "execution_count": 1358,
   "metadata": {},
   "outputs": [
    {
     "data": {
      "text/plain": [
       "30    14754\n",
       "15     8012\n",
       "60     1284\n",
       "90       40\n",
       "Name: termdays, dtype: int64"
      ]
     },
     "execution_count": 1358,
     "metadata": {},
     "output_type": "execute_result"
    }
   ],
   "source": [
    "prevloan['termdays'].value_counts()"
   ]
  },
  {
   "cell_type": "markdown",
   "metadata": {},
   "source": [
    "## Feature engineering "
   ]
  },
  {
   "cell_type": "code",
   "execution_count": 1359,
   "metadata": {},
   "outputs": [],
   "source": [
    "# 1.  temp_cloture=approveddate-closeddate\n",
    "temp_cloture = prevloan['closeddate'].dt.day-prevloan[ 'approveddate'].dt.day\n",
    "prevloan[\"temp_cloture\"]=temp_cloture\n",
    "temp_cloture=pd.pivot_table(prevloan,values=[\"temp_cloture\"],index=[\"customerid\"],aggfunc=np.sum)\n",
    "#2. temps_premier_pay='firstduedate'-'firstrepaiddate\n",
    "temps_pay=prevloan['firstduedate']-prevloan['firstrepaiddate']\n",
    "prevloan[\"temps_pay\"]=prevloan['firstduedate'].dt.day-prevloan['firstrepaiddate'].dt.day\n",
    "temps_pay=pd.pivot_table(prevloan,values=[\"temps_pay\"],index=[\"customerid\"],aggfunc=np.sum)\n",
    "#creationdate-approveddate? supprimer creationdate\n",
    "#3. interet=totaldue-Loanmount\n",
    "interet = prevloan['totaldue']-prevloan['loanamount']\n",
    "prevloan[\"interet\"]= prevloan['totaldue']-prevloan['loanamount']\n",
    "interet=pd.pivot_table(prevloan,values=[\"interet\"],index=[\"customerid\"],aggfunc=np.sum)\n",
    "\n",
    "#recoder les terms days \n",
    "#recode={30:1,15:2,60:3,90:40}\n",
    "#prevloan['termdays']=prevloan['termdays'].map(recode)"
   ]
  },
  {
   "cell_type": "code",
   "execution_count": 1360,
   "metadata": {},
   "outputs": [
    {
     "data": {
      "text/html": [
       "<div>\n",
       "<style scoped>\n",
       "    .dataframe tbody tr th:only-of-type {\n",
       "        vertical-align: middle;\n",
       "    }\n",
       "\n",
       "    .dataframe tbody tr th {\n",
       "        vertical-align: top;\n",
       "    }\n",
       "\n",
       "    .dataframe thead th {\n",
       "        text-align: right;\n",
       "    }\n",
       "</style>\n",
       "<table border=\"1\" class=\"dataframe\">\n",
       "  <thead>\n",
       "    <tr style=\"text-align: right;\">\n",
       "      <th></th>\n",
       "      <th>customerid</th>\n",
       "      <th>temp_cloture</th>\n",
       "      <th>temps_pay</th>\n",
       "      <th>interet</th>\n",
       "    </tr>\n",
       "  </thead>\n",
       "  <tbody>\n",
       "    <tr>\n",
       "      <th>0</th>\n",
       "      <td>8a1088a0484472eb01484669e3ce4e0b</td>\n",
       "      <td>22</td>\n",
       "      <td>-6</td>\n",
       "      <td>1500.0</td>\n",
       "    </tr>\n",
       "    <tr>\n",
       "      <th>1</th>\n",
       "      <td>8a1a1e7e4f707f8b014f797718316cad</td>\n",
       "      <td>5</td>\n",
       "      <td>1</td>\n",
       "      <td>19500.0</td>\n",
       "    </tr>\n",
       "    <tr>\n",
       "      <th>2</th>\n",
       "      <td>8a1a32fc49b632520149c3b8fdf85139</td>\n",
       "      <td>-17</td>\n",
       "      <td>3</td>\n",
       "      <td>16500.0</td>\n",
       "    </tr>\n",
       "    <tr>\n",
       "      <th>3</th>\n",
       "      <td>8a1eb5ba49a682300149c3c068b806c7</td>\n",
       "      <td>79</td>\n",
       "      <td>-95</td>\n",
       "      <td>32400.0</td>\n",
       "    </tr>\n",
       "    <tr>\n",
       "      <th>4</th>\n",
       "      <td>8a1edbf14734127f0147356fdb1b1eb2</td>\n",
       "      <td>6</td>\n",
       "      <td>-22</td>\n",
       "      <td>4500.0</td>\n",
       "    </tr>\n",
       "  </tbody>\n",
       "</table>\n",
       "</div>"
      ],
      "text/plain": [
       "                         customerid  temp_cloture  temps_pay  interet\n",
       "0  8a1088a0484472eb01484669e3ce4e0b            22         -6   1500.0\n",
       "1  8a1a1e7e4f707f8b014f797718316cad             5          1  19500.0\n",
       "2  8a1a32fc49b632520149c3b8fdf85139           -17          3  16500.0\n",
       "3  8a1eb5ba49a682300149c3c068b806c7            79        -95  32400.0\n",
       "4  8a1edbf14734127f0147356fdb1b1eb2             6        -22   4500.0"
      ]
     },
     "execution_count": 1360,
     "metadata": {},
     "output_type": "execute_result"
    }
   ],
   "source": [
    "prevloan_new=pd.concat((temp_cloture,temps_pay,interet),axis=1)\n",
    "prevloan_new.reset_index(inplace=True)\n",
    "prevloan_new.head()"
   ]
  },
  {
   "cell_type": "code",
   "execution_count": 1361,
   "metadata": {},
   "outputs": [
    {
     "data": {
      "text/plain": [
       "(5801, 4)"
      ]
     },
     "execution_count": 1361,
     "metadata": {},
     "output_type": "execute_result"
    }
   ],
   "source": [
    "prevloan_new.shape"
   ]
  },
  {
   "cell_type": "markdown",
   "metadata": {},
   "source": [
    "## Variable interet ( moyenne des interêts)"
   ]
  },
  {
   "cell_type": "code",
   "execution_count": 1362,
   "metadata": {},
   "outputs": [
    {
     "data": {
      "text/plain": [
       "<AxesSubplot:ylabel='Frequency'>"
      ]
     },
     "execution_count": 1362,
     "metadata": {},
     "output_type": "execute_result"
    },
    {
     "data": {
      "image/png": "[encoded data removed]",
      "text/plain": [
       "<Figure size 432x288 with 1 Axes>"
      ]
     },
     "metadata": {},
     "output_type": "display_data"
    }
   ],
   "source": [
    "prevloan_new[\"interet\"].plot(kind=\"hist\")"
   ]
  },
  {
   "cell_type": "code",
   "execution_count": 1363,
   "metadata": {},
   "outputs": [
    {
     "data": {
      "text/plain": [
       "count     5801.000000\n",
       "mean     12747.373091\n",
       "std      13976.624133\n",
       "min        750.000000\n",
       "25%       3000.000000\n",
       "50%       6000.000000\n",
       "75%      17850.000000\n",
       "max      96300.000000\n",
       "Name: interet, dtype: float64"
      ]
     },
     "execution_count": 1363,
     "metadata": {},
     "output_type": "execute_result"
    }
   ],
   "source": [
    "prevloan_new[\"interet\"].describe()"
   ]
  },
  {
   "cell_type": "markdown",
   "metadata": {},
   "source": [
    "## Variable  temps_pay"
   ]
  },
  {
   "cell_type": "code",
   "execution_count": 1364,
   "metadata": {},
   "outputs": [
    {
     "data": {
      "text/plain": [
       "<AxesSubplot:ylabel='Frequency'>"
      ]
     },
     "execution_count": 1364,
     "metadata": {},
     "output_type": "execute_result"
    },
    {
     "data": {
      "image/png": "[encoded data removed]",
      "text/plain": [
       "<Figure size 432x288 with 1 Axes>"
      ]
     },
     "metadata": {},
     "output_type": "display_data"
    }
   ],
   "source": [
    "prevloan_new[\"temps_pay\"].plot(kind=\"hist\")"
   ]
  },
  {
   "cell_type": "code",
   "execution_count": 1365,
   "metadata": {},
   "outputs": [
    {
     "data": {
      "text/plain": [
       "count    5801.000000\n",
       "mean       -0.744182\n",
       "std        21.698969\n",
       "min      -159.000000\n",
       "25%        -9.000000\n",
       "50%         1.000000\n",
       "75%         9.000000\n",
       "max       143.000000\n",
       "Name: temps_pay, dtype: float64"
      ]
     },
     "execution_count": 1365,
     "metadata": {},
     "output_type": "execute_result"
    }
   ],
   "source": [
    "prevloan_new[\"temps_pay\"].describe()"
   ]
  },
  {
   "cell_type": "markdown",
   "metadata": {},
   "source": [
    "## Variable  temp_cloture"
   ]
  },
  {
   "cell_type": "code",
   "execution_count": 1366,
   "metadata": {},
   "outputs": [
    {
     "data": {
      "text/plain": [
       "<AxesSubplot:ylabel='Frequency'>"
      ]
     },
     "execution_count": 1366,
     "metadata": {},
     "output_type": "execute_result"
    },
    {
     "data": {
      "image/png": "[encoded data removed]",
      "text/plain": [
       "<Figure size 432x288 with 1 Axes>"
      ]
     },
     "metadata": {},
     "output_type": "display_data"
    }
   ],
   "source": [
    "prevloan_new[\"temp_cloture\"].plot(kind=\"hist\")"
   ]
  },
  {
   "cell_type": "code",
   "execution_count": 1367,
   "metadata": {},
   "outputs": [
    {
     "data": {
      "text/plain": [
       "count    5801.000000\n",
       "mean        0.559042\n",
       "std        21.727386\n",
       "min      -101.000000\n",
       "25%       -12.000000\n",
       "50%         0.000000\n",
       "75%        12.000000\n",
       "max       142.000000\n",
       "Name: temp_cloture, dtype: float64"
      ]
     },
     "execution_count": 1367,
     "metadata": {},
     "output_type": "execute_result"
    }
   ],
   "source": [
    "prevloan_new[\"temp_cloture\"].describe()"
   ]
  },
  {
   "cell_type": "code",
   "execution_count": 1368,
   "metadata": {},
   "outputs": [
    {
     "data": {
      "text/plain": [
       "(5801, 4)"
      ]
     },
     "execution_count": 1368,
     "metadata": {},
     "output_type": "execute_result"
    }
   ],
   "source": [
    "prevloan_new.shape"
   ]
  },
  {
   "cell_type": "markdown",
   "metadata": {},
   "source": [
    "## Analyse Data pref"
   ]
  },
  {
   "cell_type": "code",
   "execution_count": 1369,
   "metadata": {},
   "outputs": [
    {
     "data": {
      "text/html": [
       "<div>\n",
       "<style scoped>\n",
       "    .dataframe tbody tr th:only-of-type {\n",
       "        vertical-align: middle;\n",
       "    }\n",
       "\n",
       "    .dataframe tbody tr th {\n",
       "        vertical-align: top;\n",
       "    }\n",
       "\n",
       "    .dataframe thead th {\n",
       "        text-align: right;\n",
       "    }\n",
       "</style>\n",
       "<table border=\"1\" class=\"dataframe\">\n",
       "  <thead>\n",
       "    <tr style=\"text-align: right;\">\n",
       "      <th></th>\n",
       "      <th>customerid</th>\n",
       "      <th>systemloanid</th>\n",
       "      <th>loannumber</th>\n",
       "      <th>approveddate</th>\n",
       "      <th>creationdate</th>\n",
       "      <th>loanamount</th>\n",
       "      <th>totaldue</th>\n",
       "      <th>termdays</th>\n",
       "      <th>referredby</th>\n",
       "      <th>good_bad_flag</th>\n",
       "    </tr>\n",
       "  </thead>\n",
       "  <tbody>\n",
       "    <tr>\n",
       "      <th>0</th>\n",
       "      <td>8a2a81a74ce8c05d014cfb32a0da1049</td>\n",
       "      <td>301994762</td>\n",
       "      <td>12</td>\n",
       "      <td>2017-07-25 08:22:56</td>\n",
       "      <td>2017-07-25 07:22:47</td>\n",
       "      <td>30000.0</td>\n",
       "      <td>34500.0</td>\n",
       "      <td>30</td>\n",
       "      <td>NaN</td>\n",
       "      <td>Good</td>\n",
       "    </tr>\n",
       "    <tr>\n",
       "      <th>1</th>\n",
       "      <td>8a85886e54beabf90154c0a29ae757c0</td>\n",
       "      <td>301965204</td>\n",
       "      <td>2</td>\n",
       "      <td>2017-07-05 17:04:41</td>\n",
       "      <td>2017-07-05 16:04:18</td>\n",
       "      <td>15000.0</td>\n",
       "      <td>17250.0</td>\n",
       "      <td>30</td>\n",
       "      <td>NaN</td>\n",
       "      <td>Good</td>\n",
       "    </tr>\n",
       "    <tr>\n",
       "      <th>2</th>\n",
       "      <td>8a8588f35438fe12015444567666018e</td>\n",
       "      <td>301966580</td>\n",
       "      <td>7</td>\n",
       "      <td>2017-07-06 14:52:57</td>\n",
       "      <td>2017-07-06 13:52:51</td>\n",
       "      <td>20000.0</td>\n",
       "      <td>22250.0</td>\n",
       "      <td>15</td>\n",
       "      <td>NaN</td>\n",
       "      <td>Good</td>\n",
       "    </tr>\n",
       "    <tr>\n",
       "      <th>3</th>\n",
       "      <td>8a85890754145ace015429211b513e16</td>\n",
       "      <td>301999343</td>\n",
       "      <td>3</td>\n",
       "      <td>2017-07-27 19:00:41</td>\n",
       "      <td>2017-07-27 18:00:35</td>\n",
       "      <td>10000.0</td>\n",
       "      <td>11500.0</td>\n",
       "      <td>15</td>\n",
       "      <td>NaN</td>\n",
       "      <td>Good</td>\n",
       "    </tr>\n",
       "    <tr>\n",
       "      <th>4</th>\n",
       "      <td>8a858970548359cc0154883481981866</td>\n",
       "      <td>301962360</td>\n",
       "      <td>9</td>\n",
       "      <td>2017-07-03 23:42:45</td>\n",
       "      <td>2017-07-03 22:42:39</td>\n",
       "      <td>40000.0</td>\n",
       "      <td>44000.0</td>\n",
       "      <td>30</td>\n",
       "      <td>NaN</td>\n",
       "      <td>Good</td>\n",
       "    </tr>\n",
       "  </tbody>\n",
       "</table>\n",
       "</div>"
      ],
      "text/plain": [
       "                         customerid  systemloanid  loannumber  \\\n",
       "0  8a2a81a74ce8c05d014cfb32a0da1049     301994762          12   \n",
       "1  8a85886e54beabf90154c0a29ae757c0     301965204           2   \n",
       "2  8a8588f35438fe12015444567666018e     301966580           7   \n",
       "3  8a85890754145ace015429211b513e16     301999343           3   \n",
       "4  8a858970548359cc0154883481981866     301962360           9   \n",
       "\n",
       "         approveddate        creationdate  loanamount  totaldue  termdays  \\\n",
       "0 2017-07-25 08:22:56 2017-07-25 07:22:47     30000.0   34500.0        30   \n",
       "1 2017-07-05 17:04:41 2017-07-05 16:04:18     15000.0   17250.0        30   \n",
       "2 2017-07-06 14:52:57 2017-07-06 13:52:51     20000.0   22250.0        15   \n",
       "3 2017-07-27 19:00:41 2017-07-27 18:00:35     10000.0   11500.0        15   \n",
       "4 2017-07-03 23:42:45 2017-07-03 22:42:39     40000.0   44000.0        30   \n",
       "\n",
       "  referredby good_bad_flag  \n",
       "0        NaN          Good  \n",
       "1        NaN          Good  \n",
       "2        NaN          Good  \n",
       "3        NaN          Good  \n",
       "4        NaN          Good  "
      ]
     },
     "execution_count": 1369,
     "metadata": {},
     "output_type": "execute_result"
    }
   ],
   "source": [
    "trainperf.head()"
   ]
  },
  {
   "cell_type": "code",
   "execution_count": 1370,
   "metadata": {},
   "outputs": [
    {
     "data": {
      "text/html": [
       "<div>\n",
       "<style scoped>\n",
       "    .dataframe tbody tr th:only-of-type {\n",
       "        vertical-align: middle;\n",
       "    }\n",
       "\n",
       "    .dataframe tbody tr th {\n",
       "        vertical-align: top;\n",
       "    }\n",
       "\n",
       "    .dataframe thead th {\n",
       "        text-align: right;\n",
       "    }\n",
       "</style>\n",
       "<table border=\"1\" class=\"dataframe\">\n",
       "  <thead>\n",
       "    <tr style=\"text-align: right;\">\n",
       "      <th></th>\n",
       "      <th>customerid</th>\n",
       "      <th>systemloanid</th>\n",
       "      <th>loannumber</th>\n",
       "      <th>approveddate</th>\n",
       "      <th>creationdate</th>\n",
       "      <th>loanamount</th>\n",
       "      <th>totaldue</th>\n",
       "      <th>termdays</th>\n",
       "      <th>referredby</th>\n",
       "      <th>good_bad_flag</th>\n",
       "    </tr>\n",
       "  </thead>\n",
       "  <tbody>\n",
       "    <tr>\n",
       "      <th>0</th>\n",
       "      <td>8a2a81a74ce8c05d014cfb32a0da1049</td>\n",
       "      <td>301994762</td>\n",
       "      <td>12</td>\n",
       "      <td>2017-07-25 08:22:56</td>\n",
       "      <td>2017-07-25 07:22:47</td>\n",
       "      <td>30000.0</td>\n",
       "      <td>34500.0</td>\n",
       "      <td>30</td>\n",
       "      <td>NaN</td>\n",
       "      <td>Good</td>\n",
       "    </tr>\n",
       "    <tr>\n",
       "      <th>1</th>\n",
       "      <td>8a85886e54beabf90154c0a29ae757c0</td>\n",
       "      <td>301965204</td>\n",
       "      <td>2</td>\n",
       "      <td>2017-07-05 17:04:41</td>\n",
       "      <td>2017-07-05 16:04:18</td>\n",
       "      <td>15000.0</td>\n",
       "      <td>17250.0</td>\n",
       "      <td>30</td>\n",
       "      <td>NaN</td>\n",
       "      <td>Good</td>\n",
       "    </tr>\n",
       "    <tr>\n",
       "      <th>2</th>\n",
       "      <td>8a8588f35438fe12015444567666018e</td>\n",
       "      <td>301966580</td>\n",
       "      <td>7</td>\n",
       "      <td>2017-07-06 14:52:57</td>\n",
       "      <td>2017-07-06 13:52:51</td>\n",
       "      <td>20000.0</td>\n",
       "      <td>22250.0</td>\n",
       "      <td>15</td>\n",
       "      <td>NaN</td>\n",
       "      <td>Good</td>\n",
       "    </tr>\n",
       "    <tr>\n",
       "      <th>3</th>\n",
       "      <td>8a85890754145ace015429211b513e16</td>\n",
       "      <td>301999343</td>\n",
       "      <td>3</td>\n",
       "      <td>2017-07-27 19:00:41</td>\n",
       "      <td>2017-07-27 18:00:35</td>\n",
       "      <td>10000.0</td>\n",
       "      <td>11500.0</td>\n",
       "      <td>15</td>\n",
       "      <td>NaN</td>\n",
       "      <td>Good</td>\n",
       "    </tr>\n",
       "    <tr>\n",
       "      <th>4</th>\n",
       "      <td>8a858970548359cc0154883481981866</td>\n",
       "      <td>301962360</td>\n",
       "      <td>9</td>\n",
       "      <td>2017-07-03 23:42:45</td>\n",
       "      <td>2017-07-03 22:42:39</td>\n",
       "      <td>40000.0</td>\n",
       "      <td>44000.0</td>\n",
       "      <td>30</td>\n",
       "      <td>NaN</td>\n",
       "      <td>Good</td>\n",
       "    </tr>\n",
       "    <tr>\n",
       "      <th>...</th>\n",
       "      <td>...</td>\n",
       "      <td>...</td>\n",
       "      <td>...</td>\n",
       "      <td>...</td>\n",
       "      <td>...</td>\n",
       "      <td>...</td>\n",
       "      <td>...</td>\n",
       "      <td>...</td>\n",
       "      <td>...</td>\n",
       "      <td>...</td>\n",
       "    </tr>\n",
       "    <tr>\n",
       "      <th>4363</th>\n",
       "      <td>8a858e6d58b0cc520158beeb14b22a5a</td>\n",
       "      <td>302003163</td>\n",
       "      <td>2</td>\n",
       "      <td>2017-07-30 09:19:42</td>\n",
       "      <td>2017-07-30 08:18:30</td>\n",
       "      <td>10000.0</td>\n",
       "      <td>13000.0</td>\n",
       "      <td>30</td>\n",
       "      <td>NaN</td>\n",
       "      <td>Bad</td>\n",
       "    </tr>\n",
       "    <tr>\n",
       "      <th>4364</th>\n",
       "      <td>8a858ee85cf400f5015cf44ab1c42d5c</td>\n",
       "      <td>301998967</td>\n",
       "      <td>2</td>\n",
       "      <td>2017-07-27 15:35:47</td>\n",
       "      <td>2017-07-27 14:35:40</td>\n",
       "      <td>10000.0</td>\n",
       "      <td>13000.0</td>\n",
       "      <td>30</td>\n",
       "      <td>NaN</td>\n",
       "      <td>Bad</td>\n",
       "    </tr>\n",
       "    <tr>\n",
       "      <th>4365</th>\n",
       "      <td>8a858f365b2547f3015b284597147c94</td>\n",
       "      <td>301995576</td>\n",
       "      <td>3</td>\n",
       "      <td>2017-07-25 16:25:57</td>\n",
       "      <td>2017-07-25 15:24:47</td>\n",
       "      <td>10000.0</td>\n",
       "      <td>11500.0</td>\n",
       "      <td>15</td>\n",
       "      <td>NaN</td>\n",
       "      <td>Bad</td>\n",
       "    </tr>\n",
       "    <tr>\n",
       "      <th>4366</th>\n",
       "      <td>8a858f935ca09667015ca0ee3bc63f51</td>\n",
       "      <td>301977679</td>\n",
       "      <td>2</td>\n",
       "      <td>2017-07-14 13:50:27</td>\n",
       "      <td>2017-07-14 12:50:21</td>\n",
       "      <td>10000.0</td>\n",
       "      <td>13000.0</td>\n",
       "      <td>30</td>\n",
       "      <td>8a858eda5c8863ff015c9dead65807bb</td>\n",
       "      <td>Bad</td>\n",
       "    </tr>\n",
       "    <tr>\n",
       "      <th>4367</th>\n",
       "      <td>8a858fd458639fcc015868eb14b542ad</td>\n",
       "      <td>301967124</td>\n",
       "      <td>8</td>\n",
       "      <td>2017-07-06 21:01:06</td>\n",
       "      <td>2017-07-06 20:01:01</td>\n",
       "      <td>30000.0</td>\n",
       "      <td>34500.0</td>\n",
       "      <td>30</td>\n",
       "      <td>NaN</td>\n",
       "      <td>Bad</td>\n",
       "    </tr>\n",
       "  </tbody>\n",
       "</table>\n",
       "<p>4368 rows × 10 columns</p>\n",
       "</div>"
      ],
      "text/plain": [
       "                            customerid  systemloanid  loannumber  \\\n",
       "0     8a2a81a74ce8c05d014cfb32a0da1049     301994762          12   \n",
       "1     8a85886e54beabf90154c0a29ae757c0     301965204           2   \n",
       "2     8a8588f35438fe12015444567666018e     301966580           7   \n",
       "3     8a85890754145ace015429211b513e16     301999343           3   \n",
       "4     8a858970548359cc0154883481981866     301962360           9   \n",
       "...                                ...           ...         ...   \n",
       "4363  8a858e6d58b0cc520158beeb14b22a5a     302003163           2   \n",
       "4364  8a858ee85cf400f5015cf44ab1c42d5c     301998967           2   \n",
       "4365  8a858f365b2547f3015b284597147c94     301995576           3   \n",
       "4366  8a858f935ca09667015ca0ee3bc63f51     301977679           2   \n",
       "4367  8a858fd458639fcc015868eb14b542ad     301967124           8   \n",
       "\n",
       "            approveddate        creationdate  loanamount  totaldue  termdays  \\\n",
       "0    2017-07-25 08:22:56 2017-07-25 07:22:47     30000.0   34500.0        30   \n",
       "1    2017-07-05 17:04:41 2017-07-05 16:04:18     15000.0   17250.0        30   \n",
       "2    2017-07-06 14:52:57 2017-07-06 13:52:51     20000.0   22250.0        15   \n",
       "3    2017-07-27 19:00:41 2017-07-27 18:00:35     10000.0   11500.0        15   \n",
       "4    2017-07-03 23:42:45 2017-07-03 22:42:39     40000.0   44000.0        30   \n",
       "...                  ...                 ...         ...       ...       ...   \n",
       "4363 2017-07-30 09:19:42 2017-07-30 08:18:30     10000.0   13000.0        30   \n",
       "4364 2017-07-27 15:35:47 2017-07-27 14:35:40     10000.0   13000.0        30   \n",
       "4365 2017-07-25 16:25:57 2017-07-25 15:24:47     10000.0   11500.0        15   \n",
       "4366 2017-07-14 13:50:27 2017-07-14 12:50:21     10000.0   13000.0        30   \n",
       "4367 2017-07-06 21:01:06 2017-07-06 20:01:01     30000.0   34500.0        30   \n",
       "\n",
       "                            referredby good_bad_flag  \n",
       "0                                  NaN          Good  \n",
       "1                                  NaN          Good  \n",
       "2                                  NaN          Good  \n",
       "3                                  NaN          Good  \n",
       "4                                  NaN          Good  \n",
       "...                                ...           ...  \n",
       "4363                               NaN           Bad  \n",
       "4364                               NaN           Bad  \n",
       "4365                               NaN           Bad  \n",
       "4366  8a858eda5c8863ff015c9dead65807bb           Bad  \n",
       "4367                               NaN           Bad  \n",
       "\n",
       "[4368 rows x 10 columns]"
      ]
     },
     "execution_count": 1370,
     "metadata": {},
     "output_type": "execute_result"
    }
   ],
   "source": [
    "trainperf.drop_duplicates()"
   ]
  },
  {
   "cell_type": "markdown",
   "metadata": {},
   "source": [
    "## Valeurs manquantes "
   ]
  },
  {
   "cell_type": "code",
   "execution_count": 1371,
   "metadata": {},
   "outputs": [
    {
     "data": {
      "text/plain": [
       "referredby       86.561355\n",
       "customerid        0.000000\n",
       "systemloanid      0.000000\n",
       "loannumber        0.000000\n",
       "approveddate      0.000000\n",
       "creationdate      0.000000\n",
       "loanamount        0.000000\n",
       "totaldue          0.000000\n",
       "termdays          0.000000\n",
       "good_bad_flag     0.000000\n",
       "dtype: float64"
      ]
     },
     "execution_count": 1371,
     "metadata": {},
     "output_type": "execute_result"
    }
   ],
   "source": [
    "# Graphe valeur manquante avec couleur !! Bonne visualtion par chaque colonne \n",
    "(trainperf.isnull().sum()/trainperf.shape[0]).sort_values(ascending=False)*100"
   ]
  },
  {
   "cell_type": "code",
   "execution_count": 1372,
   "metadata": {},
   "outputs": [
    {
     "data": {
      "text/plain": [
       "referredby      87.310345\n",
       "customerid       0.000000\n",
       "systemloanid     0.000000\n",
       "loannumber       0.000000\n",
       "approveddate     0.000000\n",
       "creationdate     0.000000\n",
       "loanamount       0.000000\n",
       "totaldue         0.000000\n",
       "termdays         0.000000\n",
       "dtype: float64"
      ]
     },
     "execution_count": 1372,
     "metadata": {},
     "output_type": "execute_result"
    }
   ],
   "source": [
    "# Graphe valeur manquante avec couleur !! Bonne visualtion par chaque colonne \n",
    "(testperf.isnull().sum()/testperf.shape[0]).sort_values(ascending=False)*100"
   ]
  },
  {
   "cell_type": "markdown",
   "metadata": {},
   "source": [
    "**Variable referredby à supprimer**"
   ]
  },
  {
   "cell_type": "markdown",
   "metadata": {},
   "source": [
    "### Variable cible : good_bad_flag "
   ]
  },
  {
   "cell_type": "code",
   "execution_count": 1373,
   "metadata": {},
   "outputs": [
    {
     "name": "stdout",
     "output_type": "stream",
     "text": [
      "nombre de moadalités :  2\n"
     ]
    },
    {
     "data": {
      "text/plain": [
       "Good    78.205128\n",
       "Bad     21.794872\n",
       "Name: good_bad_flag, dtype: float64"
      ]
     },
     "execution_count": 1373,
     "metadata": {},
     "output_type": "execute_result"
    }
   ],
   "source": [
    "print(\"nombre de moadalités : \",trainperf[\"good_bad_flag\"].nunique())\n",
    "(trainperf[\"good_bad_flag\"].value_counts()/trainperf.shape[0])*100"
   ]
  },
  {
   "cell_type": "code",
   "execution_count": 1374,
   "metadata": {},
   "outputs": [
    {
     "data": {
      "image/png": "[encoded data removed]",
      "text/plain": [
       "<Figure size 432x288 with 1 Axes>"
      ]
     },
     "metadata": {},
     "output_type": "display_data"
    }
   ],
   "source": [
    "sns.countplot(y=\"good_bad_flag\",data=trainperf)\n",
    "plt.show()"
   ]
  },
  {
   "cell_type": "markdown",
   "metadata": {},
   "source": [
    "**Nous avons deux modalités Good et Bad. les classes sont déséquilibrées, la classe majoritaire est Good avec 78.20 %**"
   ]
  },
  {
   "cell_type": "code",
   "execution_count": 1375,
   "metadata": {},
   "outputs": [],
   "source": [
    "#interet_es=totaldue-Loanmount\n",
    "trainperf[\"interet_es\"] = trainperf['totaldue']-trainperf['loanamount']\n",
    "testperf[\"interet_es\"]= testperf['totaldue']-testperf['loanamount']\n",
    "#recode variable \"good_bad_flag\n",
    "recode={\"Good\":1,\"bad\":0}\n",
    "trainperf[\"good_bad_flag\"]=trainperf[\"good_bad_flag\"].map(recode)"
   ]
  },
  {
   "cell_type": "code",
   "execution_count": 1376,
   "metadata": {},
   "outputs": [],
   "source": [
    "col_supp=[\"systemloanid\",'approveddate','loannumber','creationdate', 'loanamount', 'totaldue',\n",
    "       'referredby']\n",
    "trainperf_new=trainperf.drop(col_supp,axis=1)\n",
    "testperf_new=testperf.drop(col_supp,axis=1)"
   ]
  },
  {
   "cell_type": "code",
   "execution_count": 1377,
   "metadata": {},
   "outputs": [
    {
     "data": {
      "text/html": [
       "<div>\n",
       "<style scoped>\n",
       "    .dataframe tbody tr th:only-of-type {\n",
       "        vertical-align: middle;\n",
       "    }\n",
       "\n",
       "    .dataframe tbody tr th {\n",
       "        vertical-align: top;\n",
       "    }\n",
       "\n",
       "    .dataframe thead th {\n",
       "        text-align: right;\n",
       "    }\n",
       "</style>\n",
       "<table border=\"1\" class=\"dataframe\">\n",
       "  <thead>\n",
       "    <tr style=\"text-align: right;\">\n",
       "      <th></th>\n",
       "      <th>customerid</th>\n",
       "      <th>termdays</th>\n",
       "      <th>good_bad_flag</th>\n",
       "      <th>interet_es</th>\n",
       "    </tr>\n",
       "  </thead>\n",
       "  <tbody>\n",
       "    <tr>\n",
       "      <th>0</th>\n",
       "      <td>8a2a81a74ce8c05d014cfb32a0da1049</td>\n",
       "      <td>30</td>\n",
       "      <td>1.0</td>\n",
       "      <td>4500.0</td>\n",
       "    </tr>\n",
       "    <tr>\n",
       "      <th>1</th>\n",
       "      <td>8a85886e54beabf90154c0a29ae757c0</td>\n",
       "      <td>30</td>\n",
       "      <td>1.0</td>\n",
       "      <td>2250.0</td>\n",
       "    </tr>\n",
       "    <tr>\n",
       "      <th>2</th>\n",
       "      <td>8a8588f35438fe12015444567666018e</td>\n",
       "      <td>15</td>\n",
       "      <td>1.0</td>\n",
       "      <td>2250.0</td>\n",
       "    </tr>\n",
       "    <tr>\n",
       "      <th>3</th>\n",
       "      <td>8a85890754145ace015429211b513e16</td>\n",
       "      <td>15</td>\n",
       "      <td>1.0</td>\n",
       "      <td>1500.0</td>\n",
       "    </tr>\n",
       "    <tr>\n",
       "      <th>4</th>\n",
       "      <td>8a858970548359cc0154883481981866</td>\n",
       "      <td>30</td>\n",
       "      <td>1.0</td>\n",
       "      <td>4000.0</td>\n",
       "    </tr>\n",
       "  </tbody>\n",
       "</table>\n",
       "</div>"
      ],
      "text/plain": [
       "                         customerid  termdays  good_bad_flag  interet_es\n",
       "0  8a2a81a74ce8c05d014cfb32a0da1049        30            1.0      4500.0\n",
       "1  8a85886e54beabf90154c0a29ae757c0        30            1.0      2250.0\n",
       "2  8a8588f35438fe12015444567666018e        15            1.0      2250.0\n",
       "3  8a85890754145ace015429211b513e16        15            1.0      1500.0\n",
       "4  8a858970548359cc0154883481981866        30            1.0      4000.0"
      ]
     },
     "execution_count": 1377,
     "metadata": {},
     "output_type": "execute_result"
    }
   ],
   "source": [
    "trainperf_new.head()"
   ]
  },
  {
   "cell_type": "code",
   "execution_count": 1378,
   "metadata": {},
   "outputs": [
    {
     "data": {
      "text/plain": [
       "(4368, 11)"
      ]
     },
     "execution_count": 1378,
     "metadata": {},
     "output_type": "execute_result"
    }
   ],
   "source": [
    "trainperf.shape"
   ]
  },
  {
   "cell_type": "code",
   "execution_count": 1379,
   "metadata": {},
   "outputs": [
    {
     "data": {
      "text/html": [
       "<div>\n",
       "<style scoped>\n",
       "    .dataframe tbody tr th:only-of-type {\n",
       "        vertical-align: middle;\n",
       "    }\n",
       "\n",
       "    .dataframe tbody tr th {\n",
       "        vertical-align: top;\n",
       "    }\n",
       "\n",
       "    .dataframe thead th {\n",
       "        text-align: right;\n",
       "    }\n",
       "</style>\n",
       "<table border=\"1\" class=\"dataframe\">\n",
       "  <thead>\n",
       "    <tr style=\"text-align: right;\">\n",
       "      <th></th>\n",
       "      <th>customerid</th>\n",
       "      <th>termdays</th>\n",
       "      <th>interet_es</th>\n",
       "    </tr>\n",
       "  </thead>\n",
       "  <tbody>\n",
       "    <tr>\n",
       "      <th>0</th>\n",
       "      <td>8a858899538ddb8e015390510b321f08</td>\n",
       "      <td>30</td>\n",
       "      <td>2250.0</td>\n",
       "    </tr>\n",
       "    <tr>\n",
       "      <th>1</th>\n",
       "      <td>8a858959537a097401537a4e316e25f7</td>\n",
       "      <td>30</td>\n",
       "      <td>4000.0</td>\n",
       "    </tr>\n",
       "    <tr>\n",
       "      <th>2</th>\n",
       "      <td>8a8589c253ace09b0153af6ba58f1f31</td>\n",
       "      <td>30</td>\n",
       "      <td>4500.0</td>\n",
       "    </tr>\n",
       "    <tr>\n",
       "      <th>3</th>\n",
       "      <td>8a858e095aae82b7015aae86ca1e030b</td>\n",
       "      <td>30</td>\n",
       "      <td>4500.0</td>\n",
       "    </tr>\n",
       "    <tr>\n",
       "      <th>4</th>\n",
       "      <td>8a858e225a28c713015a30db5c48383d</td>\n",
       "      <td>30</td>\n",
       "      <td>4500.0</td>\n",
       "    </tr>\n",
       "  </tbody>\n",
       "</table>\n",
       "</div>"
      ],
      "text/plain": [
       "                         customerid  termdays  interet_es\n",
       "0  8a858899538ddb8e015390510b321f08        30      2250.0\n",
       "1  8a858959537a097401537a4e316e25f7        30      4000.0\n",
       "2  8a8589c253ace09b0153af6ba58f1f31        30      4500.0\n",
       "3  8a858e095aae82b7015aae86ca1e030b        30      4500.0\n",
       "4  8a858e225a28c713015a30db5c48383d        30      4500.0"
      ]
     },
     "execution_count": 1379,
     "metadata": {},
     "output_type": "execute_result"
    }
   ],
   "source": [
    "testperf_new.head()"
   ]
  },
  {
   "cell_type": "code",
   "execution_count": 1380,
   "metadata": {},
   "outputs": [
    {
     "data": {
      "text/plain": [
       "(1450, 3)"
      ]
     },
     "execution_count": 1380,
     "metadata": {},
     "output_type": "execute_result"
    }
   ],
   "source": [
    "testperf_new.shape"
   ]
  },
  {
   "cell_type": "code",
   "execution_count": 1381,
   "metadata": {},
   "outputs": [],
   "source": [
    "trainperf_new['set'] = 'train'\n",
    "testperf_new['set'] = 'test'\n",
    "Tperf=pd.concat([trainperf_new,testperf_new])"
   ]
  },
  {
   "cell_type": "markdown",
   "metadata": {},
   "source": [
    "## Fusion des datasets "
   ]
  },
  {
   "cell_type": "code",
   "execution_count": 1382,
   "metadata": {},
   "outputs": [
    {
     "name": "stdout",
     "output_type": "stream",
     "text": [
      "demographics (5818, 4)\n",
      "Tperf (5818, 5)\n",
      "pervloan (5801, 4)\n"
     ]
    }
   ],
   "source": [
    "print(\"demographics\",demographics_new.shape)\n",
    "print(\"Tperf\",Tperf.shape)\n",
    "print(\"pervloan\",prevloan_new.shape)"
   ]
  },
  {
   "cell_type": "code",
   "execution_count": 1383,
   "metadata": {},
   "outputs": [
    {
     "data": {
      "text/plain": [
       "(5818, 8)"
      ]
     },
     "execution_count": 1383,
     "metadata": {},
     "output_type": "execute_result"
    }
   ],
   "source": [
    "#fusion des données Demographics + perf + prevloan\n",
    "data=pd.merge(Tperf,demographics_new,how=\"inner\")\n",
    "data.shape"
   ]
  },
  {
   "cell_type": "code",
   "execution_count": 1384,
   "metadata": {},
   "outputs": [
    {
     "data": {
      "text/plain": [
       "(5818, 11)"
      ]
     },
     "execution_count": 1384,
     "metadata": {},
     "output_type": "execute_result"
    }
   ],
   "source": [
    "data_new=pd.merge(data,prevloan_new,how=\"left\")\n",
    "data_new.shape"
   ]
  },
  {
   "cell_type": "code",
   "execution_count": 1385,
   "metadata": {},
   "outputs": [],
   "source": [
    "data_new=data_new.fillna(0)"
   ]
  },
  {
   "cell_type": "code",
   "execution_count": 1386,
   "metadata": {},
   "outputs": [
    {
     "data": {
      "text/plain": [
       "customerid           0\n",
       "termdays             0\n",
       "good_bad_flag        0\n",
       "interet_es           0\n",
       "set                  0\n",
       "bank_account_type    0\n",
       "bank_name_clients    0\n",
       "age                  0\n",
       "temp_cloture         0\n",
       "temps_pay            0\n",
       "interet              0\n",
       "dtype: int64"
      ]
     },
     "execution_count": 1386,
     "metadata": {},
     "output_type": "execute_result"
    }
   ],
   "source": [
    "data_new.isnull().sum()"
   ]
  },
  {
   "cell_type": "code",
   "execution_count": null,
   "metadata": {},
   "outputs": [],
   "source": []
  },
  {
   "cell_type": "markdown",
   "metadata": {},
   "source": [
    "## Analyse data fusion"
   ]
  },
  {
   "cell_type": "code",
   "execution_count": 1387,
   "metadata": {},
   "outputs": [
    {
     "data": {
      "text/html": [
       "<div>\n",
       "<style scoped>\n",
       "    .dataframe tbody tr th:only-of-type {\n",
       "        vertical-align: middle;\n",
       "    }\n",
       "\n",
       "    .dataframe tbody tr th {\n",
       "        vertical-align: top;\n",
       "    }\n",
       "\n",
       "    .dataframe thead th {\n",
       "        text-align: right;\n",
       "    }\n",
       "</style>\n",
       "<table border=\"1\" class=\"dataframe\">\n",
       "  <thead>\n",
       "    <tr style=\"text-align: right;\">\n",
       "      <th></th>\n",
       "      <th>customerid</th>\n",
       "      <th>termdays</th>\n",
       "      <th>good_bad_flag</th>\n",
       "      <th>interet_es</th>\n",
       "      <th>set</th>\n",
       "      <th>bank_account_type</th>\n",
       "      <th>bank_name_clients</th>\n",
       "      <th>age</th>\n",
       "      <th>temp_cloture</th>\n",
       "      <th>temps_pay</th>\n",
       "      <th>interet</th>\n",
       "    </tr>\n",
       "  </thead>\n",
       "  <tbody>\n",
       "    <tr>\n",
       "      <th>0</th>\n",
       "      <td>8a2a81a74ce8c05d014cfb32a0da1049</td>\n",
       "      <td>30</td>\n",
       "      <td>1.0</td>\n",
       "      <td>4500.0</td>\n",
       "      <td>train</td>\n",
       "      <td>Other</td>\n",
       "      <td>Diamond Bank</td>\n",
       "      <td>50</td>\n",
       "      <td>27.0</td>\n",
       "      <td>-20.0</td>\n",
       "      <td>42900.0</td>\n",
       "    </tr>\n",
       "    <tr>\n",
       "      <th>1</th>\n",
       "      <td>8a85886e54beabf90154c0a29ae757c0</td>\n",
       "      <td>30</td>\n",
       "      <td>1.0</td>\n",
       "      <td>2250.0</td>\n",
       "      <td>train</td>\n",
       "      <td>Savings</td>\n",
       "      <td>GT Bank</td>\n",
       "      <td>37</td>\n",
       "      <td>0.0</td>\n",
       "      <td>0.0</td>\n",
       "      <td>0.0</td>\n",
       "    </tr>\n",
       "    <tr>\n",
       "      <th>2</th>\n",
       "      <td>8a8588f35438fe12015444567666018e</td>\n",
       "      <td>15</td>\n",
       "      <td>1.0</td>\n",
       "      <td>2250.0</td>\n",
       "      <td>train</td>\n",
       "      <td>Other</td>\n",
       "      <td>EcoBank</td>\n",
       "      <td>38</td>\n",
       "      <td>54.0</td>\n",
       "      <td>-39.0</td>\n",
       "      <td>10500.0</td>\n",
       "    </tr>\n",
       "    <tr>\n",
       "      <th>3</th>\n",
       "      <td>8a85890754145ace015429211b513e16</td>\n",
       "      <td>15</td>\n",
       "      <td>1.0</td>\n",
       "      <td>1500.0</td>\n",
       "      <td>train</td>\n",
       "      <td>Savings</td>\n",
       "      <td>First Bank</td>\n",
       "      <td>45</td>\n",
       "      <td>2.0</td>\n",
       "      <td>-15.0</td>\n",
       "      <td>4500.0</td>\n",
       "    </tr>\n",
       "    <tr>\n",
       "      <th>4</th>\n",
       "      <td>8a858970548359cc0154883481981866</td>\n",
       "      <td>30</td>\n",
       "      <td>1.0</td>\n",
       "      <td>4000.0</td>\n",
       "      <td>train</td>\n",
       "      <td>Other</td>\n",
       "      <td>GT Bank</td>\n",
       "      <td>36</td>\n",
       "      <td>-26.0</td>\n",
       "      <td>25.0</td>\n",
       "      <td>38400.0</td>\n",
       "    </tr>\n",
       "  </tbody>\n",
       "</table>\n",
       "</div>"
      ],
      "text/plain": [
       "                         customerid  termdays  good_bad_flag  interet_es  \\\n",
       "0  8a2a81a74ce8c05d014cfb32a0da1049        30            1.0      4500.0   \n",
       "1  8a85886e54beabf90154c0a29ae757c0        30            1.0      2250.0   \n",
       "2  8a8588f35438fe12015444567666018e        15            1.0      2250.0   \n",
       "3  8a85890754145ace015429211b513e16        15            1.0      1500.0   \n",
       "4  8a858970548359cc0154883481981866        30            1.0      4000.0   \n",
       "\n",
       "     set bank_account_type bank_name_clients  age  temp_cloture  temps_pay  \\\n",
       "0  train             Other      Diamond Bank   50          27.0      -20.0   \n",
       "1  train           Savings           GT Bank   37           0.0        0.0   \n",
       "2  train             Other           EcoBank   38          54.0      -39.0   \n",
       "3  train           Savings        First Bank   45           2.0      -15.0   \n",
       "4  train             Other           GT Bank   36         -26.0       25.0   \n",
       "\n",
       "   interet  \n",
       "0  42900.0  \n",
       "1      0.0  \n",
       "2  10500.0  \n",
       "3   4500.0  \n",
       "4  38400.0  "
      ]
     },
     "execution_count": 1387,
     "metadata": {},
     "output_type": "execute_result"
    }
   ],
   "source": [
    "data_new.head()"
   ]
  },
  {
   "cell_type": "code",
   "execution_count": 1388,
   "metadata": {},
   "outputs": [
    {
     "data": {
      "text/plain": [
       "Index(['customerid', 'termdays', 'good_bad_flag', 'interet_es', 'set',\n",
       "       'bank_account_type', 'bank_name_clients', 'age', 'temp_cloture',\n",
       "       'temps_pay', 'interet'],\n",
       "      dtype='object')"
      ]
     },
     "execution_count": 1388,
     "metadata": {},
     "output_type": "execute_result"
    }
   ],
   "source": [
    "data_new.columns"
   ]
  },
  {
   "cell_type": "code",
   "execution_count": 1389,
   "metadata": {},
   "outputs": [
    {
     "name": "stdout",
     "output_type": "stream",
     "text": [
      "<class 'pandas.core.frame.DataFrame'>\n",
      "Int64Index: 5818 entries, 0 to 5817\n",
      "Data columns (total 11 columns):\n",
      " #   Column             Non-Null Count  Dtype  \n",
      "---  ------             --------------  -----  \n",
      " 0   customerid         5818 non-null   object \n",
      " 1   termdays           5818 non-null   int64  \n",
      " 2   good_bad_flag      5818 non-null   float64\n",
      " 3   interet_es         5818 non-null   float64\n",
      " 4   set                5818 non-null   object \n",
      " 5   bank_account_type  5818 non-null   object \n",
      " 6   bank_name_clients  5818 non-null   object \n",
      " 7   age                5818 non-null   int64  \n",
      " 8   temp_cloture       5818 non-null   float64\n",
      " 9   temps_pay          5818 non-null   float64\n",
      " 10  interet            5818 non-null   float64\n",
      "dtypes: float64(5), int64(2), object(4)\n",
      "memory usage: 545.4+ KB\n"
     ]
    }
   ],
   "source": [
    "data_new.info()"
   ]
  },
  {
   "cell_type": "code",
   "execution_count": 1390,
   "metadata": {},
   "outputs": [],
   "source": [
    "data_new['good_bad_flag'] = data_new['good_bad_flag'].astype('category')"
   ]
  },
  {
   "cell_type": "markdown",
   "metadata": {},
   "source": [
    "## Matrice de correlation"
   ]
  },
  {
   "cell_type": "code",
   "execution_count": 1391,
   "metadata": {},
   "outputs": [
    {
     "data": {
      "text/html": [
       "<div>\n",
       "<style scoped>\n",
       "    .dataframe tbody tr th:only-of-type {\n",
       "        vertical-align: middle;\n",
       "    }\n",
       "\n",
       "    .dataframe tbody tr th {\n",
       "        vertical-align: top;\n",
       "    }\n",
       "\n",
       "    .dataframe thead th {\n",
       "        text-align: right;\n",
       "    }\n",
       "</style>\n",
       "<table border=\"1\" class=\"dataframe\">\n",
       "  <thead>\n",
       "    <tr style=\"text-align: right;\">\n",
       "      <th></th>\n",
       "      <th>termdays</th>\n",
       "      <th>interet_es</th>\n",
       "      <th>age</th>\n",
       "      <th>temp_cloture</th>\n",
       "      <th>temps_pay</th>\n",
       "      <th>interet</th>\n",
       "    </tr>\n",
       "  </thead>\n",
       "  <tbody>\n",
       "    <tr>\n",
       "      <th>0</th>\n",
       "      <td>30</td>\n",
       "      <td>4500.0</td>\n",
       "      <td>50</td>\n",
       "      <td>27.0</td>\n",
       "      <td>-20.0</td>\n",
       "      <td>42900.0</td>\n",
       "    </tr>\n",
       "    <tr>\n",
       "      <th>1</th>\n",
       "      <td>30</td>\n",
       "      <td>2250.0</td>\n",
       "      <td>37</td>\n",
       "      <td>0.0</td>\n",
       "      <td>0.0</td>\n",
       "      <td>0.0</td>\n",
       "    </tr>\n",
       "    <tr>\n",
       "      <th>2</th>\n",
       "      <td>15</td>\n",
       "      <td>2250.0</td>\n",
       "      <td>38</td>\n",
       "      <td>54.0</td>\n",
       "      <td>-39.0</td>\n",
       "      <td>10500.0</td>\n",
       "    </tr>\n",
       "    <tr>\n",
       "      <th>3</th>\n",
       "      <td>15</td>\n",
       "      <td>1500.0</td>\n",
       "      <td>45</td>\n",
       "      <td>2.0</td>\n",
       "      <td>-15.0</td>\n",
       "      <td>4500.0</td>\n",
       "    </tr>\n",
       "    <tr>\n",
       "      <th>4</th>\n",
       "      <td>30</td>\n",
       "      <td>4000.0</td>\n",
       "      <td>36</td>\n",
       "      <td>-26.0</td>\n",
       "      <td>25.0</td>\n",
       "      <td>38400.0</td>\n",
       "    </tr>\n",
       "  </tbody>\n",
       "</table>\n",
       "</div>"
      ],
      "text/plain": [
       "   termdays  interet_es  age  temp_cloture  temps_pay  interet\n",
       "0        30      4500.0   50          27.0      -20.0  42900.0\n",
       "1        30      2250.0   37           0.0        0.0      0.0\n",
       "2        15      2250.0   38          54.0      -39.0  10500.0\n",
       "3        15      1500.0   45           2.0      -15.0   4500.0\n",
       "4        30      4000.0   36         -26.0       25.0  38400.0"
      ]
     },
     "execution_count": 1391,
     "metadata": {},
     "output_type": "execute_result"
    }
   ],
   "source": [
    "col_quanti=[\"termdays\",'interet_es','age','temp_cloture', 'temps_pay', 'interet']\n",
    "data_quanti=data_new[col_quanti]\n",
    "data_quanti.head()"
   ]
  },
  {
   "cell_type": "code",
   "execution_count": 1392,
   "metadata": {},
   "outputs": [
    {
     "data": {
      "image/png": "[encoded data removed]",
      "text/plain": [
       "<Figure size 720x576 with 2 Axes>"
      ]
     },
     "metadata": {},
     "output_type": "display_data"
    }
   ],
   "source": [
    "sns.heatmap(data_quanti.corr(),annot=True,cmap='RdYlGn',linewidths=0.2) \n",
    "fig=plt.gcf()\n",
    "fig.set_size_inches(10,8)\n",
    "plt.show()"
   ]
  },
  {
   "cell_type": "markdown",
   "metadata": {},
   "source": [
    "**Les variables termdays et interest_es sont sont corrélées ainsi que la variable temps_pay et temp_cloture**"
   ]
  },
  {
   "cell_type": "markdown",
   "metadata": {},
   "source": [
    "### bank_account_type  / bank_name_clients vs good_bad_flag "
   ]
  },
  {
   "cell_type": "code",
   "execution_count": 1393,
   "metadata": {},
   "outputs": [
    {
     "data": {
      "text/html": [
       "<style type=\"text/css\">\n",
       "#T_19647_row0_col0, #T_19647_row0_col1 {\n",
       "  background-color: #ffff66;\n",
       "  color: #000000;\n",
       "}\n",
       "#T_19647_row1_col0 {\n",
       "  background-color: #cce666;\n",
       "  color: #000000;\n",
       "}\n",
       "#T_19647_row1_col1 {\n",
       "  background-color: #b9dc66;\n",
       "  color: #000000;\n",
       "}\n",
       "#T_19647_row2_col0, #T_19647_row2_col1 {\n",
       "  background-color: #008066;\n",
       "  color: #f1f1f1;\n",
       "}\n",
       "</style>\n",
       "<table id=\"T_19647_\">\n",
       "  <thead>\n",
       "    <tr>\n",
       "      <th class=\"index_name level0\" >good_bad_flag</th>\n",
       "      <th class=\"col_heading level0 col0\" >0.0</th>\n",
       "      <th class=\"col_heading level0 col1\" >1.0</th>\n",
       "    </tr>\n",
       "    <tr>\n",
       "      <th class=\"index_name level0\" >bank_account_type</th>\n",
       "      <th class=\"blank col0\" >&nbsp;</th>\n",
       "      <th class=\"blank col1\" >&nbsp;</th>\n",
       "    </tr>\n",
       "  </thead>\n",
       "  <tbody>\n",
       "    <tr>\n",
       "      <th id=\"T_19647_level0_row0\" class=\"row_heading level0 row0\" >Current</th>\n",
       "      <td id=\"T_19647_row0_col0\" class=\"data row0 col0\" >23</td>\n",
       "      <td id=\"T_19647_row0_col1\" class=\"data row0 col1\" >57</td>\n",
       "    </tr>\n",
       "    <tr>\n",
       "      <th id=\"T_19647_level0_row1\" class=\"row_heading level0 row1\" >Other</th>\n",
       "      <td id=\"T_19647_row1_col0\" class=\"data row1 col0\" >412</td>\n",
       "      <td id=\"T_19647_row1_col1\" class=\"data row1 col1\" >756</td>\n",
       "    </tr>\n",
       "    <tr>\n",
       "      <th id=\"T_19647_level0_row2\" class=\"row_heading level0 row2\" >Savings</th>\n",
       "      <td id=\"T_19647_row2_col0\" class=\"data row2 col0\" >1967</td>\n",
       "      <td id=\"T_19647_row2_col1\" class=\"data row2 col1\" >2603</td>\n",
       "    </tr>\n",
       "  </tbody>\n",
       "</table>\n"
      ],
      "text/plain": [
       "<pandas.io.formats.style.Styler at 0x27bc47302b0>"
      ]
     },
     "execution_count": 1393,
     "metadata": {},
     "output_type": "execute_result"
    }
   ],
   "source": [
    "pd.crosstab(data_new.bank_account_type,data_new.good_bad_flag ).style.background_gradient(cmap='summer_r')"
   ]
  },
  {
   "cell_type": "code",
   "execution_count": 1394,
   "metadata": {},
   "outputs": [
    {
     "data": {
      "image/png": "[encoded data removed]",
      "text/plain": [
       "<Figure size 720x576 with 1 Axes>"
      ]
     },
     "metadata": {},
     "output_type": "display_data"
    }
   ],
   "source": [
    "import seaborn as sns\n",
    "sns.catplot(x=\"bank_account_type\", hue=\"good_bad_flag\", kind=\"count\", edgecolor=\".6\",data=data_new)\n",
    "fig=plt.gcf()\n",
    "fig.set_size_inches(10,8)\n",
    "plt.show()"
   ]
  },
  {
   "cell_type": "code",
   "execution_count": 1395,
   "metadata": {},
   "outputs": [
    {
     "data": {
      "image/png": "[encoded data removed]",
      "text/plain": [
       "<Figure size 720x576 with 1 Axes>"
      ]
     },
     "metadata": {},
     "output_type": "display_data"
    }
   ],
   "source": [
    "sns.catplot(y='bank_name_clients', hue=\"good_bad_flag\", kind=\"count\", edgecolor=\".6\",data=data_new)\n",
    "fig=plt.gcf()\n",
    "fig.set_size_inches(10,8)\n",
    "plt.show()"
   ]
  },
  {
   "cell_type": "code",
   "execution_count": 1396,
   "metadata": {},
   "outputs": [],
   "source": [
    "def VCramer(chi2,l,c,N):\n",
    "  import numpy as np\n",
    "  mini = min(l-1,c-1)\n",
    "  return np.sqrt(chi2/N*mini)\n",
    " \n",
    "def Tschuprow(chi2,l,c,N):\n",
    "  import numpy as np\n",
    "  return np.sqrt(chi2/N*(l-1)*(c-1))\n",
    "\n",
    "def var_qual_vs_cible(df,noms_var,nom_cible,seuil):\n",
    "  from scipy.stats import chi2_contingency\n",
    "  import pandas as pd \n",
    "  pvalue=[]\n",
    "  V=[]\n",
    "  T=[]\n",
    "  c=len(df[nom_cible].unique())\n",
    "  N=df.shape[0]\n",
    "  for var in noms_var:\n",
    "    tableau_contingence=pd.DataFrame( pd.crosstab(df[var], \n",
    "                                  df[nom_cible],  \n",
    "                                  margins = False))\n",
    "    l=len(df[var].unique())\n",
    "\n",
    "    chi2, p= chi2_contingency(tableau_contingence)[0:2]\n",
    "    pvalue.append(p)\n",
    "    V.append(VCramer(chi2,l,c,N))\n",
    "    T.append(Tschuprow(chi2,l,c,N))\n",
    " \n",
    "  dic={\"variable\":noms_var,\"pvalue\":pvalue,\"VCramer\":V,\"Tschuprow\":T}\n",
    "  res=pd.DataFrame(dic)\n",
    "  return res"
   ]
  },
  {
   "cell_type": "code",
   "execution_count": 1397,
   "metadata": {},
   "outputs": [
    {
     "data": {
      "text/html": [
       "<style type=\"text/css\">\n",
       "#T_b74dc_row0_col1, #T_b74dc_row0_col2, #T_b74dc_row0_col3 {\n",
       "  background-color: #ffff66;\n",
       "  color: #000000;\n",
       "}\n",
       "#T_b74dc_row1_col1, #T_b74dc_row1_col2, #T_b74dc_row1_col3 {\n",
       "  background-color: #008066;\n",
       "  color: #f1f1f1;\n",
       "}\n",
       "</style>\n",
       "<table id=\"T_b74dc_\">\n",
       "  <thead>\n",
       "    <tr>\n",
       "      <th class=\"blank level0\" >&nbsp;</th>\n",
       "      <th class=\"col_heading level0 col0\" >variable</th>\n",
       "      <th class=\"col_heading level0 col1\" >pvalue</th>\n",
       "      <th class=\"col_heading level0 col2\" >VCramer</th>\n",
       "      <th class=\"col_heading level0 col3\" >Tschuprow</th>\n",
       "    </tr>\n",
       "  </thead>\n",
       "  <tbody>\n",
       "    <tr>\n",
       "      <th id=\"T_b74dc_level0_row0\" class=\"row_heading level0 row0\" >0</th>\n",
       "      <td id=\"T_b74dc_row0_col0\" class=\"data row0 col0\" >bank_account_type</td>\n",
       "      <td id=\"T_b74dc_row0_col1\" class=\"data row0 col1\" >0.000001</td>\n",
       "      <td id=\"T_b74dc_row0_col2\" class=\"data row0 col2\" >0.069882</td>\n",
       "      <td id=\"T_b74dc_row0_col3\" class=\"data row0 col3\" >0.098829</td>\n",
       "    </tr>\n",
       "    <tr>\n",
       "      <th id=\"T_b74dc_level0_row1\" class=\"row_heading level0 row1\" >1</th>\n",
       "      <td id=\"T_b74dc_row1_col0\" class=\"data row1 col0\" >bank_name_clients</td>\n",
       "      <td id=\"T_b74dc_row1_col1\" class=\"data row1 col1\" >0.026552</td>\n",
       "      <td id=\"T_b74dc_row1_col2\" class=\"data row1 col2\" >0.071774</td>\n",
       "      <td id=\"T_b74dc_row1_col3\" class=\"data row1 col3\" >0.295932</td>\n",
       "    </tr>\n",
       "  </tbody>\n",
       "</table>\n"
      ],
      "text/plain": [
       "<pandas.io.formats.style.Styler at 0x27bc5a67220>"
      ]
     },
     "execution_count": 1397,
     "metadata": {},
     "output_type": "execute_result"
    }
   ],
   "source": [
    "noms_var=['bank_account_type','bank_name_clients']\n",
    "resultats=var_qual_vs_cible(data_new,noms_var,\"good_bad_flag\",0.05)\n",
    "resultats.style.background_gradient(cmap='summer_r')"
   ]
  },
  {
   "cell_type": "markdown",
   "metadata": {},
   "source": [
    "**Il semble ne pas avoir de lien entre la variable bank_account_type et la variable cible ainsi qu'avec Bank_name_clients**."
   ]
  },
  {
   "cell_type": "code",
   "execution_count": 1398,
   "metadata": {},
   "outputs": [
    {
     "data": {
      "image/png": "[encoded data removed]",
      "text/plain": [
       "<Figure size 720x432 with 1 Axes>"
      ]
     },
     "metadata": {},
     "output_type": "display_data"
    }
   ],
   "source": [
    "# faire ce graphque pour les autres variables\n",
    "plt.figure(figsize = (10, 6))\n",
    "for var in col_quanti:\n",
    "    ax = sns.boxplot(x=\"good_bad_flag\", y=var, data=data_new)\n",
    "    plt.setp(ax.artists, alpha=.5, linewidth=2, edgecolor=\"k\")\n",
    "    plt.xticks(rotation=45)"
   ]
  },
  {
   "cell_type": "code",
   "execution_count": 1399,
   "metadata": {},
   "outputs": [],
   "source": [
    "#test Anova ? validité ???\n",
    "import statsmodels.api as sm\n",
    "from statsmodels.formula.api import ols\n",
    "\n",
    "def var_quanti_vs_cible(df,noms_var,nom_cible):\n",
    "    pvalue=[]\n",
    "    for var in noms_var:\n",
    "        model = ols(f'{var} ~ C({nom_cible})', data=df).fit()\n",
    "        aov_table = sm.stats.anova_lm(model, typ=2)\n",
    "        pvalue.append(float(aov_table['PR(>F)'][0]))\n",
    "   \n",
    "    dic={\"variable\":noms_var,\"pvalue\":pvalue}\n",
    "    res=pd.DataFrame(dic)\n",
    "    return res"
   ]
  },
  {
   "cell_type": "code",
   "execution_count": 1400,
   "metadata": {},
   "outputs": [
    {
     "data": {
      "text/html": [
       "<style type=\"text/css\">\n",
       "#T_ce419_row0_col1 {\n",
       "  background-color: #92c866;\n",
       "  color: #000000;\n",
       "}\n",
       "#T_ce419_row1_col1 {\n",
       "  background-color: #f7fb66;\n",
       "  color: #000000;\n",
       "}\n",
       "#T_ce419_row2_col1 {\n",
       "  background-color: #fdfe66;\n",
       "  color: #000000;\n",
       "}\n",
       "#T_ce419_row3_col1 {\n",
       "  background-color: #008066;\n",
       "  color: #f1f1f1;\n",
       "}\n",
       "#T_ce419_row4_col1 {\n",
       "  background-color: #1a8c66;\n",
       "  color: #f1f1f1;\n",
       "}\n",
       "#T_ce419_row5_col1 {\n",
       "  background-color: #ffff66;\n",
       "  color: #000000;\n",
       "}\n",
       "</style>\n",
       "<table id=\"T_ce419_\">\n",
       "  <thead>\n",
       "    <tr>\n",
       "      <th class=\"blank level0\" >&nbsp;</th>\n",
       "      <th class=\"col_heading level0 col0\" >variable</th>\n",
       "      <th class=\"col_heading level0 col1\" >pvalue</th>\n",
       "    </tr>\n",
       "  </thead>\n",
       "  <tbody>\n",
       "    <tr>\n",
       "      <th id=\"T_ce419_level0_row0\" class=\"row_heading level0 row0\" >0</th>\n",
       "      <td id=\"T_ce419_row0_col0\" class=\"data row0 col0\" >termdays</td>\n",
       "      <td id=\"T_ce419_row0_col1\" class=\"data row0 col1\" >0.251357</td>\n",
       "    </tr>\n",
       "    <tr>\n",
       "      <th id=\"T_ce419_level0_row1\" class=\"row_heading level0 row1\" >1</th>\n",
       "      <td id=\"T_ce419_row1_col0\" class=\"data row1 col0\" >interet_es</td>\n",
       "      <td id=\"T_ce419_row1_col1\" class=\"data row1 col1\" >0.018887</td>\n",
       "    </tr>\n",
       "    <tr>\n",
       "      <th id=\"T_ce419_level0_row2\" class=\"row_heading level0 row2\" >2</th>\n",
       "      <td id=\"T_ce419_row2_col0\" class=\"data row2 col0\" >age</td>\n",
       "      <td id=\"T_ce419_row2_col1\" class=\"data row2 col1\" >0.004693</td>\n",
       "    </tr>\n",
       "    <tr>\n",
       "      <th id=\"T_ce419_level0_row3\" class=\"row_heading level0 row3\" >3</th>\n",
       "      <td id=\"T_ce419_row3_col0\" class=\"data row3 col0\" >temp_cloture</td>\n",
       "      <td id=\"T_ce419_row3_col1\" class=\"data row3 col1\" >0.588281</td>\n",
       "    </tr>\n",
       "    <tr>\n",
       "      <th id=\"T_ce419_level0_row4\" class=\"row_heading level0 row4\" >4</th>\n",
       "      <td id=\"T_ce419_row4_col0\" class=\"data row4 col0\" >temps_pay</td>\n",
       "      <td id=\"T_ce419_row4_col1\" class=\"data row4 col1\" >0.528200</td>\n",
       "    </tr>\n",
       "    <tr>\n",
       "      <th id=\"T_ce419_level0_row5\" class=\"row_heading level0 row5\" >5</th>\n",
       "      <td id=\"T_ce419_row5_col0\" class=\"data row5 col0\" >interet</td>\n",
       "      <td id=\"T_ce419_row5_col1\" class=\"data row5 col1\" >0.000002</td>\n",
       "    </tr>\n",
       "  </tbody>\n",
       "</table>\n"
      ],
      "text/plain": [
       "<pandas.io.formats.style.Styler at 0x27bc472a5b0>"
      ]
     },
     "execution_count": 1400,
     "metadata": {},
     "output_type": "execute_result"
    }
   ],
   "source": [
    "results_anova=var_quanti_vs_cible(data_new,col_quanti,\"good_bad_flag\")\n",
    "results_anova.style.background_gradient(cmap='summer_r')"
   ]
  },
  {
   "cell_type": "code",
   "execution_count": null,
   "metadata": {},
   "outputs": [],
   "source": []
  },
  {
   "cell_type": "markdown",
   "metadata": {},
   "source": [
    "# Création des modèles "
   ]
  },
  {
   "cell_type": "code",
   "execution_count": 1401,
   "metadata": {},
   "outputs": [
    {
     "name": "stdout",
     "output_type": "stream",
     "text": [
      "<class 'pandas.core.frame.DataFrame'>\n",
      "Int64Index: 5818 entries, 0 to 5817\n",
      "Data columns (total 11 columns):\n",
      " #   Column             Non-Null Count  Dtype   \n",
      "---  ------             --------------  -----   \n",
      " 0   customerid         5818 non-null   object  \n",
      " 1   termdays           5818 non-null   int64   \n",
      " 2   good_bad_flag      5818 non-null   category\n",
      " 3   interet_es         5818 non-null   float64 \n",
      " 4   set                5818 non-null   object  \n",
      " 5   bank_account_type  5818 non-null   object  \n",
      " 6   bank_name_clients  5818 non-null   object  \n",
      " 7   age                5818 non-null   int64   \n",
      " 8   temp_cloture       5818 non-null   float64 \n",
      " 9   temps_pay          5818 non-null   float64 \n",
      " 10  interet            5818 non-null   float64 \n",
      "dtypes: category(1), float64(4), int64(2), object(4)\n",
      "memory usage: 634.8+ KB\n"
     ]
    }
   ],
   "source": [
    "data_new.info()"
   ]
  },
  {
   "cell_type": "code",
   "execution_count": 1402,
   "metadata": {},
   "outputs": [],
   "source": [
    "def tranform_variable(nom_var, df):\n",
    "    df_dummies = pd.get_dummies(df[nom_var], prefix=nom_var).iloc[:, 1:] \n",
    "    return df_dummies "
   ]
  },
  {
   "cell_type": "code",
   "execution_count": 1403,
   "metadata": {},
   "outputs": [],
   "source": [
    "dummy_cols = ['bank_account_type','bank_name_clients']\n",
    "data_final=data_new\n",
    "for col_name in dummy_cols:\n",
    "    dummies = tranform_variable(col_name,data_new)\n",
    "    data_final= pd.concat([data_final, dummies], axis=1) \n",
    "    data_final= data_final.drop([col_name], axis=1) "
   ]
  },
  {
   "cell_type": "code",
   "execution_count": 1404,
   "metadata": {},
   "outputs": [
    {
     "data": {
      "text/html": [
       "<div>\n",
       "<style scoped>\n",
       "    .dataframe tbody tr th:only-of-type {\n",
       "        vertical-align: middle;\n",
       "    }\n",
       "\n",
       "    .dataframe tbody tr th {\n",
       "        vertical-align: top;\n",
       "    }\n",
       "\n",
       "    .dataframe thead th {\n",
       "        text-align: right;\n",
       "    }\n",
       "</style>\n",
       "<table border=\"1\" class=\"dataframe\">\n",
       "  <thead>\n",
       "    <tr style=\"text-align: right;\">\n",
       "      <th></th>\n",
       "      <th>customerid</th>\n",
       "      <th>termdays</th>\n",
       "      <th>good_bad_flag</th>\n",
       "      <th>interet_es</th>\n",
       "      <th>set</th>\n",
       "      <th>age</th>\n",
       "      <th>temp_cloture</th>\n",
       "      <th>temps_pay</th>\n",
       "      <th>interet</th>\n",
       "      <th>bank_account_type_Other</th>\n",
       "      <th>...</th>\n",
       "      <th>bank_name_clients_Keystone Bank</th>\n",
       "      <th>bank_name_clients_Skye Bank</th>\n",
       "      <th>bank_name_clients_Stanbic IBTC</th>\n",
       "      <th>bank_name_clients_Standard Chartered</th>\n",
       "      <th>bank_name_clients_Sterling Bank</th>\n",
       "      <th>bank_name_clients_UBA</th>\n",
       "      <th>bank_name_clients_Union Bank</th>\n",
       "      <th>bank_name_clients_Unity Bank</th>\n",
       "      <th>bank_name_clients_Wema Bank</th>\n",
       "      <th>bank_name_clients_Zenith Bank</th>\n",
       "    </tr>\n",
       "  </thead>\n",
       "  <tbody>\n",
       "    <tr>\n",
       "      <th>0</th>\n",
       "      <td>8a2a81a74ce8c05d014cfb32a0da1049</td>\n",
       "      <td>30</td>\n",
       "      <td>1.0</td>\n",
       "      <td>4500.0</td>\n",
       "      <td>train</td>\n",
       "      <td>50</td>\n",
       "      <td>27.0</td>\n",
       "      <td>-20.0</td>\n",
       "      <td>42900.0</td>\n",
       "      <td>1</td>\n",
       "      <td>...</td>\n",
       "      <td>0</td>\n",
       "      <td>0</td>\n",
       "      <td>0</td>\n",
       "      <td>0</td>\n",
       "      <td>0</td>\n",
       "      <td>0</td>\n",
       "      <td>0</td>\n",
       "      <td>0</td>\n",
       "      <td>0</td>\n",
       "      <td>0</td>\n",
       "    </tr>\n",
       "    <tr>\n",
       "      <th>1</th>\n",
       "      <td>8a85886e54beabf90154c0a29ae757c0</td>\n",
       "      <td>30</td>\n",
       "      <td>1.0</td>\n",
       "      <td>2250.0</td>\n",
       "      <td>train</td>\n",
       "      <td>37</td>\n",
       "      <td>0.0</td>\n",
       "      <td>0.0</td>\n",
       "      <td>0.0</td>\n",
       "      <td>0</td>\n",
       "      <td>...</td>\n",
       "      <td>0</td>\n",
       "      <td>0</td>\n",
       "      <td>0</td>\n",
       "      <td>0</td>\n",
       "      <td>0</td>\n",
       "      <td>0</td>\n",
       "      <td>0</td>\n",
       "      <td>0</td>\n",
       "      <td>0</td>\n",
       "      <td>0</td>\n",
       "    </tr>\n",
       "    <tr>\n",
       "      <th>2</th>\n",
       "      <td>8a8588f35438fe12015444567666018e</td>\n",
       "      <td>15</td>\n",
       "      <td>1.0</td>\n",
       "      <td>2250.0</td>\n",
       "      <td>train</td>\n",
       "      <td>38</td>\n",
       "      <td>54.0</td>\n",
       "      <td>-39.0</td>\n",
       "      <td>10500.0</td>\n",
       "      <td>1</td>\n",
       "      <td>...</td>\n",
       "      <td>0</td>\n",
       "      <td>0</td>\n",
       "      <td>0</td>\n",
       "      <td>0</td>\n",
       "      <td>0</td>\n",
       "      <td>0</td>\n",
       "      <td>0</td>\n",
       "      <td>0</td>\n",
       "      <td>0</td>\n",
       "      <td>0</td>\n",
       "    </tr>\n",
       "    <tr>\n",
       "      <th>3</th>\n",
       "      <td>8a85890754145ace015429211b513e16</td>\n",
       "      <td>15</td>\n",
       "      <td>1.0</td>\n",
       "      <td>1500.0</td>\n",
       "      <td>train</td>\n",
       "      <td>45</td>\n",
       "      <td>2.0</td>\n",
       "      <td>-15.0</td>\n",
       "      <td>4500.0</td>\n",
       "      <td>0</td>\n",
       "      <td>...</td>\n",
       "      <td>0</td>\n",
       "      <td>0</td>\n",
       "      <td>0</td>\n",
       "      <td>0</td>\n",
       "      <td>0</td>\n",
       "      <td>0</td>\n",
       "      <td>0</td>\n",
       "      <td>0</td>\n",
       "      <td>0</td>\n",
       "      <td>0</td>\n",
       "    </tr>\n",
       "    <tr>\n",
       "      <th>4</th>\n",
       "      <td>8a858970548359cc0154883481981866</td>\n",
       "      <td>30</td>\n",
       "      <td>1.0</td>\n",
       "      <td>4000.0</td>\n",
       "      <td>train</td>\n",
       "      <td>36</td>\n",
       "      <td>-26.0</td>\n",
       "      <td>25.0</td>\n",
       "      <td>38400.0</td>\n",
       "      <td>1</td>\n",
       "      <td>...</td>\n",
       "      <td>0</td>\n",
       "      <td>0</td>\n",
       "      <td>0</td>\n",
       "      <td>0</td>\n",
       "      <td>0</td>\n",
       "      <td>0</td>\n",
       "      <td>0</td>\n",
       "      <td>0</td>\n",
       "      <td>0</td>\n",
       "      <td>0</td>\n",
       "    </tr>\n",
       "    <tr>\n",
       "      <th>...</th>\n",
       "      <td>...</td>\n",
       "      <td>...</td>\n",
       "      <td>...</td>\n",
       "      <td>...</td>\n",
       "      <td>...</td>\n",
       "      <td>...</td>\n",
       "      <td>...</td>\n",
       "      <td>...</td>\n",
       "      <td>...</td>\n",
       "      <td>...</td>\n",
       "      <td>...</td>\n",
       "      <td>...</td>\n",
       "      <td>...</td>\n",
       "      <td>...</td>\n",
       "      <td>...</td>\n",
       "      <td>...</td>\n",
       "      <td>...</td>\n",
       "      <td>...</td>\n",
       "      <td>...</td>\n",
       "      <td>...</td>\n",
       "      <td>...</td>\n",
       "    </tr>\n",
       "    <tr>\n",
       "      <th>5813</th>\n",
       "      <td>8a858fb45bb59c21015bb88a191f58f2</td>\n",
       "      <td>15</td>\n",
       "      <td>0.0</td>\n",
       "      <td>1500.0</td>\n",
       "      <td>test</td>\n",
       "      <td>32</td>\n",
       "      <td>-41.0</td>\n",
       "      <td>12.0</td>\n",
       "      <td>3000.0</td>\n",
       "      <td>0</td>\n",
       "      <td>...</td>\n",
       "      <td>0</td>\n",
       "      <td>0</td>\n",
       "      <td>0</td>\n",
       "      <td>0</td>\n",
       "      <td>0</td>\n",
       "      <td>0</td>\n",
       "      <td>0</td>\n",
       "      <td>0</td>\n",
       "      <td>0</td>\n",
       "      <td>0</td>\n",
       "    </tr>\n",
       "    <tr>\n",
       "      <th>5814</th>\n",
       "      <td>8a858fcb5b00cc54015b0253ced26a5f</td>\n",
       "      <td>30</td>\n",
       "      <td>0.0</td>\n",
       "      <td>3000.0</td>\n",
       "      <td>test</td>\n",
       "      <td>45</td>\n",
       "      <td>-32.0</td>\n",
       "      <td>2.0</td>\n",
       "      <td>3000.0</td>\n",
       "      <td>0</td>\n",
       "      <td>...</td>\n",
       "      <td>0</td>\n",
       "      <td>0</td>\n",
       "      <td>0</td>\n",
       "      <td>0</td>\n",
       "      <td>0</td>\n",
       "      <td>0</td>\n",
       "      <td>0</td>\n",
       "      <td>0</td>\n",
       "      <td>0</td>\n",
       "      <td>0</td>\n",
       "    </tr>\n",
       "    <tr>\n",
       "      <th>5815</th>\n",
       "      <td>8a858fde56eb02280156f59b976d46c0</td>\n",
       "      <td>60</td>\n",
       "      <td>0.0</td>\n",
       "      <td>8000.0</td>\n",
       "      <td>test</td>\n",
       "      <td>28</td>\n",
       "      <td>65.0</td>\n",
       "      <td>-83.0</td>\n",
       "      <td>31600.0</td>\n",
       "      <td>0</td>\n",
       "      <td>...</td>\n",
       "      <td>0</td>\n",
       "      <td>0</td>\n",
       "      <td>0</td>\n",
       "      <td>0</td>\n",
       "      <td>0</td>\n",
       "      <td>0</td>\n",
       "      <td>0</td>\n",
       "      <td>0</td>\n",
       "      <td>0</td>\n",
       "      <td>0</td>\n",
       "    </tr>\n",
       "    <tr>\n",
       "      <th>5816</th>\n",
       "      <td>8a858e10570f2d65015717fcfec44996</td>\n",
       "      <td>90</td>\n",
       "      <td>0.0</td>\n",
       "      <td>8100.0</td>\n",
       "      <td>test</td>\n",
       "      <td>33</td>\n",
       "      <td>-24.0</td>\n",
       "      <td>49.0</td>\n",
       "      <td>74100.0</td>\n",
       "      <td>1</td>\n",
       "      <td>...</td>\n",
       "      <td>0</td>\n",
       "      <td>0</td>\n",
       "      <td>0</td>\n",
       "      <td>0</td>\n",
       "      <td>0</td>\n",
       "      <td>0</td>\n",
       "      <td>1</td>\n",
       "      <td>0</td>\n",
       "      <td>0</td>\n",
       "      <td>0</td>\n",
       "    </tr>\n",
       "    <tr>\n",
       "      <th>5817</th>\n",
       "      <td>8a858f605b911d60015b91b99d55400d</td>\n",
       "      <td>15</td>\n",
       "      <td>0.0</td>\n",
       "      <td>2250.0</td>\n",
       "      <td>test</td>\n",
       "      <td>48</td>\n",
       "      <td>-18.0</td>\n",
       "      <td>3.0</td>\n",
       "      <td>6750.0</td>\n",
       "      <td>0</td>\n",
       "      <td>...</td>\n",
       "      <td>0</td>\n",
       "      <td>0</td>\n",
       "      <td>0</td>\n",
       "      <td>0</td>\n",
       "      <td>0</td>\n",
       "      <td>0</td>\n",
       "      <td>0</td>\n",
       "      <td>0</td>\n",
       "      <td>0</td>\n",
       "      <td>1</td>\n",
       "    </tr>\n",
       "  </tbody>\n",
       "</table>\n",
       "<p>5818 rows × 28 columns</p>\n",
       "</div>"
      ],
      "text/plain": [
       "                            customerid  termdays good_bad_flag  interet_es  \\\n",
       "0     8a2a81a74ce8c05d014cfb32a0da1049        30           1.0      4500.0   \n",
       "1     8a85886e54beabf90154c0a29ae757c0        30           1.0      2250.0   \n",
       "2     8a8588f35438fe12015444567666018e        15           1.0      2250.0   \n",
       "3     8a85890754145ace015429211b513e16        15           1.0      1500.0   \n",
       "4     8a858970548359cc0154883481981866        30           1.0      4000.0   \n",
       "...                                ...       ...           ...         ...   \n",
       "5813  8a858fb45bb59c21015bb88a191f58f2        15           0.0      1500.0   \n",
       "5814  8a858fcb5b00cc54015b0253ced26a5f        30           0.0      3000.0   \n",
       "5815  8a858fde56eb02280156f59b976d46c0        60           0.0      8000.0   \n",
       "5816  8a858e10570f2d65015717fcfec44996        90           0.0      8100.0   \n",
       "5817  8a858f605b911d60015b91b99d55400d        15           0.0      2250.0   \n",
       "\n",
       "        set  age  temp_cloture  temps_pay  interet  bank_account_type_Other  \\\n",
       "0     train   50          27.0      -20.0  42900.0                        1   \n",
       "1     train   37           0.0        0.0      0.0                        0   \n",
       "2     train   38          54.0      -39.0  10500.0                        1   \n",
       "3     train   45           2.0      -15.0   4500.0                        0   \n",
       "4     train   36         -26.0       25.0  38400.0                        1   \n",
       "...     ...  ...           ...        ...      ...                      ...   \n",
       "5813   test   32         -41.0       12.0   3000.0                        0   \n",
       "5814   test   45         -32.0        2.0   3000.0                        0   \n",
       "5815   test   28          65.0      -83.0  31600.0                        0   \n",
       "5816   test   33         -24.0       49.0  74100.0                        1   \n",
       "5817   test   48         -18.0        3.0   6750.0                        0   \n",
       "\n",
       "      ...  bank_name_clients_Keystone Bank  bank_name_clients_Skye Bank  \\\n",
       "0     ...                                0                            0   \n",
       "1     ...                                0                            0   \n",
       "2     ...                                0                            0   \n",
       "3     ...                                0                            0   \n",
       "4     ...                                0                            0   \n",
       "...   ...                              ...                          ...   \n",
       "5813  ...                                0                            0   \n",
       "5814  ...                                0                            0   \n",
       "5815  ...                                0                            0   \n",
       "5816  ...                                0                            0   \n",
       "5817  ...                                0                            0   \n",
       "\n",
       "      bank_name_clients_Stanbic IBTC  bank_name_clients_Standard Chartered  \\\n",
       "0                                  0                                     0   \n",
       "1                                  0                                     0   \n",
       "2                                  0                                     0   \n",
       "3                                  0                                     0   \n",
       "4                                  0                                     0   \n",
       "...                              ...                                   ...   \n",
       "5813                               0                                     0   \n",
       "5814                               0                                     0   \n",
       "5815                               0                                     0   \n",
       "5816                               0                                     0   \n",
       "5817                               0                                     0   \n",
       "\n",
       "      bank_name_clients_Sterling Bank  bank_name_clients_UBA  \\\n",
       "0                                   0                      0   \n",
       "1                                   0                      0   \n",
       "2                                   0                      0   \n",
       "3                                   0                      0   \n",
       "4                                   0                      0   \n",
       "...                               ...                    ...   \n",
       "5813                                0                      0   \n",
       "5814                                0                      0   \n",
       "5815                                0                      0   \n",
       "5816                                0                      0   \n",
       "5817                                0                      0   \n",
       "\n",
       "      bank_name_clients_Union Bank  bank_name_clients_Unity Bank  \\\n",
       "0                                0                             0   \n",
       "1                                0                             0   \n",
       "2                                0                             0   \n",
       "3                                0                             0   \n",
       "4                                0                             0   \n",
       "...                            ...                           ...   \n",
       "5813                             0                             0   \n",
       "5814                             0                             0   \n",
       "5815                             0                             0   \n",
       "5816                             1                             0   \n",
       "5817                             0                             0   \n",
       "\n",
       "      bank_name_clients_Wema Bank  bank_name_clients_Zenith Bank  \n",
       "0                               0                              0  \n",
       "1                               0                              0  \n",
       "2                               0                              0  \n",
       "3                               0                              0  \n",
       "4                               0                              0  \n",
       "...                           ...                            ...  \n",
       "5813                            0                              0  \n",
       "5814                            0                              0  \n",
       "5815                            0                              0  \n",
       "5816                            0                              0  \n",
       "5817                            0                              1  \n",
       "\n",
       "[5818 rows x 28 columns]"
      ]
     },
     "execution_count": 1404,
     "metadata": {},
     "output_type": "execute_result"
    }
   ],
   "source": [
    "data_final"
   ]
  },
  {
   "cell_type": "code",
   "execution_count": 1405,
   "metadata": {},
   "outputs": [],
   "source": [
    "train=data_final.loc[data_final.set==\"train\",:]\n",
    "train=train.drop([\"set\",\"customerid\"],axis=1)\n",
    "test=data_final.loc[data_final.set==\"test\",:]\n",
    "test=test.drop([\"set\",\"good_bad_flag\",\"customerid\"],axis=1)"
   ]
  },
  {
   "cell_type": "code",
   "execution_count": 1406,
   "metadata": {},
   "outputs": [],
   "source": [
    "#split the train and test\n",
    "from sklearn.model_selection import train_test_split\n",
    "X=train.drop([\"good_bad_flag\"],axis=1)\n",
    "y=train.good_bad_flag\n",
    "X_train, X_test, y_train, y_test = train_test_split(X, y, stratify=y, test_size=.3, random_state=15)"
   ]
  },
  {
   "cell_type": "code",
   "execution_count": 1407,
   "metadata": {},
   "outputs": [],
   "source": [
    "from sklearn.metrics import confusion_matrix,accuracy_score,recall_score,roc_auc_score,classification_report,roc_auc_score,roc_curve,auc\n",
    "\n",
    "\n",
    "def model(algorithm,dtrain_X,dtrain_Y,dtest_X,dtest_Y,cols=None):\n",
    "\n",
    "    algorithm.fit(dtrain_X[cols],dtrain_Y)\n",
    "    predictions = algorithm.predict(dtest_X[cols])\n",
    "    print (algorithm)\n",
    "    \n",
    "    print (\"Accuracy score : \", accuracy_score(predictions,dtest_Y))\n",
    "    print (\"Recall score   : \", recall_score(predictions,dtest_Y))\n",
    "    print (\"classification report :\\n\",classification_report(predictions,dtest_Y))\n",
    "    \n",
    "    fig = plt.figure(figsize=(10,8))\n",
    "    ax  = fig.add_subplot(111)\n",
    "    prediction_probabilities = algorithm.predict_proba(dtest_X[cols])[:,1]\n",
    "    fpr , tpr , thresholds   = roc_curve(dtest_Y,prediction_probabilities)\n",
    "    ax.plot(fpr,tpr,label   = [\"Area under curve : \",auc(fpr,tpr)],linewidth=2,linestyle=\"dotted\")\n",
    "    ax.plot([0,1],[0,1],linewidth=2,linestyle=\"dashed\")\n",
    "    plt.legend(loc=\"best\")\n",
    "    plt.title(\"ROC-CURVE & AREA UNDER CURVE\")\n"
   ]
  },
  {
   "cell_type": "code",
   "execution_count": 1408,
   "metadata": {},
   "outputs": [
    {
     "name": "stdout",
     "output_type": "stream",
     "text": [
      "LogisticRegression()\n",
      "Accuracy score :  0.7818459191456903\n",
      "Recall score   :  0.7818459191456903\n",
      "classification report :\n",
      "               precision    recall  f1-score   support\n",
      "\n",
      "         0.0       0.00      0.00      0.00         0\n",
      "         1.0       1.00      0.78      0.88      1311\n",
      "\n",
      "    accuracy                           0.78      1311\n",
      "   macro avg       0.50      0.39      0.44      1311\n",
      "weighted avg       1.00      0.78      0.88      1311\n",
      "\n"
     ]
    },
    {
     "data": {
      "image/png": "[encoded data removed]",
      "text/plain": [
       "<Figure size 720x576 with 1 Axes>"
      ]
     },
     "metadata": {},
     "output_type": "display_data"
    }
   ],
   "source": [
    "from sklearn.linear_model import LogisticRegression\n",
    "logit = LogisticRegression()\n",
    "model(logit,X_train,y_train,X_test,y_test,X_train.columns)"
   ]
  },
  {
   "cell_type": "code",
   "execution_count": null,
   "metadata": {},
   "outputs": [],
   "source": []
  }
 ],
 "metadata": {
  "interpreter": {
   "hash": "6d3059ec050b57c207e367ff91d648997e83ddfa5d89936ee6c7b54af5a142b7"
  },
  "kernelspec": {
   "display_name": "Python 3",
   "language": "python",
   "name": "python3"
  },
  "language_info": {
   "codemirror_mode": {
    "name": "ipython",
    "version": 3
   },
   "file_extension": ".py",
   "mimetype": "text/x-python",
   "name": "python",
   "nbconvert_exporter": "python",
   "pygments_lexer": "ipython3",
   "version": "3.8.8"
  }
 },
 "nbformat": 4,
 "nbformat_minor": 4
}
